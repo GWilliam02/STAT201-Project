{
 "cells": [
  {
   "cell_type": "markdown",
   "id": "46e59607-f04f-47ff-92af-049eed93b2c7",
   "metadata": {
    "tags": []
   },
   "source": [
    "# Wage Differences Within The STEM Occupation #"
   ]
  },
  {
   "cell_type": "markdown",
   "id": "ca5d6605-76b3-460f-99c2-2850ef772b96",
   "metadata": {},
   "source": [
    "## Introduction ##"
   ]
  },
  {
   "cell_type": "markdown",
   "id": "48017747-aacd-4bc7-b024-62b8556a6f03",
   "metadata": {},
   "source": [
    "In recent years, both the consumer price index (CPI) and real gross domestic product (RGDP) have been increasing, indicating a boom in the economy (Canada, 2023). Therefore, we would also expect an increase in wages in all industries to a certain extent. Meanwhile, the rapid global growth in the field of Science, Technology, Engineering, and Mathematics (STEM) since 2020 globally has attracted many people to the industry (O’Rourke, 2021). Canada, being one of the more developed countries has also been greatly impacted. There has been an increase in students that are pursuing STEM. This leads us to the question we want to investigate: **Are hourly wages for workers with STEM occupations between ages 20-24 lower than workers between the ages of 40-44?** We will be looking at the Labour Force Survey, 2023 (LFS) data set from Statistic Canada. The survey was conducted in the first quarter of 2023 and includes information about the immigration status, hourly wage, field of occupation and other information of the workers. "
   ]
  },
  {
   "cell_type": "markdown",
   "id": "03b9deea-29aa-4447-b132-ef8000319414",
   "metadata": {},
   "source": [
    "## Methods and Results ##"
   ]
  },
  {
   "cell_type": "code",
   "execution_count": 1,
   "id": "3dca47cb-6140-41bb-8e72-52d4c30effb7",
   "metadata": {},
   "outputs": [
    {
     "name": "stderr",
     "output_type": "stream",
     "text": [
      "-- \u001b[1mAttaching packages\u001b[22m --------------------------------- tidyverse 1.3.1 --\n",
      "\n",
      "\u001b[32mv\u001b[39m \u001b[34mggplot2\u001b[39m 3.3.6      \u001b[32mv\u001b[39m \u001b[34mpurrr  \u001b[39m 0.3.4 \n",
      "\u001b[32mv\u001b[39m \u001b[34mtibble \u001b[39m 3.1.8      \u001b[32mv\u001b[39m \u001b[34mdplyr  \u001b[39m 1.0.10\n",
      "\u001b[32mv\u001b[39m \u001b[34mtidyr  \u001b[39m 1.2.0      \u001b[32mv\u001b[39m \u001b[34mstringr\u001b[39m 1.4.1 \n",
      "\u001b[32mv\u001b[39m \u001b[34mreadr  \u001b[39m 2.1.2      \u001b[32mv\u001b[39m \u001b[34mforcats\u001b[39m 0.5.2 \n",
      "\n",
      "Warning message:\n",
      "\"package 'ggplot2' was built under R version 4.1.3\"\n",
      "Warning message:\n",
      "\"package 'tibble' was built under R version 4.1.3\"\n",
      "Warning message:\n",
      "\"package 'tidyr' was built under R version 4.1.2\"\n",
      "Warning message:\n",
      "\"package 'readr' was built under R version 4.1.2\"\n",
      "Warning message:\n",
      "\"package 'dplyr' was built under R version 4.1.3\"\n",
      "Warning message:\n",
      "\"package 'stringr' was built under R version 4.1.3\"\n",
      "Warning message:\n",
      "\"package 'forcats' was built under R version 4.1.3\"\n",
      "-- \u001b[1mConflicts\u001b[22m ------------------------------------ tidyverse_conflicts() --\n",
      "\u001b[31mx\u001b[39m \u001b[34mdplyr\u001b[39m::\u001b[32mfilter()\u001b[39m masks \u001b[34mstats\u001b[39m::filter()\n",
      "\u001b[31mx\u001b[39m \u001b[34mdplyr\u001b[39m::\u001b[32mlag()\u001b[39m    masks \u001b[34mstats\u001b[39m::lag()\n",
      "\n",
      "Warning message:\n",
      "\"package 'broom' was built under R version 4.1.3\"\n",
      "Warning message:\n",
      "\"package 'repr' was built under R version 4.1.2\"\n",
      "Warning message:\n",
      "\"package 'infer' was built under R version 4.1.3\"\n",
      "Loading required package: gridExtra\n",
      "\n",
      "\n",
      "Attaching package: 'gridExtra'\n",
      "\n",
      "\n",
      "The following object is masked from 'package:dplyr':\n",
      "\n",
      "    combine\n",
      "\n",
      "\n"
     ]
    }
   ],
   "source": [
    "library(tidyverse)\n",
    "library(broom)\n",
    "library(repr)\n",
    "library(digest)\n",
    "library(infer)\n",
    "require(gridExtra)"
   ]
  },
  {
   "cell_type": "code",
   "execution_count": 2,
   "id": "4a8295b4-7a36-4cee-a59f-a56f122799ef",
   "metadata": {},
   "outputs": [],
   "source": [
    "options(repr.plot.width=20, repr.plot.height=10) # Setting options"
   ]
  },
  {
   "cell_type": "markdown",
   "id": "57e56d24-a20e-4276-9e77-fa304525d13e",
   "metadata": {},
   "source": [
    "The following code imports the April 2023 Canadian Labour Force data into the notebook."
   ]
  },
  {
   "cell_type": "code",
   "execution_count": 3,
   "id": "c02f11da-5575-4bb8-98e6-f3ad7353ad56",
   "metadata": {},
   "outputs": [
    {
     "name": "stderr",
     "output_type": "stream",
     "text": [
      "\u001b[1mRows: \u001b[22m\u001b[34m108064\u001b[39m \u001b[1mColumns: \u001b[22m\u001b[34m60\u001b[39m\n",
      "\u001b[36m--\u001b[39m \u001b[1mColumn specification\u001b[22m \u001b[36m--------------------------------------------------\u001b[39m\n",
      "\u001b[1mDelimiter:\u001b[22m \",\"\n",
      "\u001b[31mchr\u001b[39m  (7): SURVMNTH, AGE_12, NAICS_21, NOC_10, NOC_43, WHYLEFTN, EFAMTYPE\n",
      "\u001b[32mdbl\u001b[39m (53): REC_NUM, SURVYEAR, LFSSTAT, PROV, CMA, AGE_6, SEX, MARSTAT, EDUC, ...\n",
      "\n",
      "\u001b[36mi\u001b[39m Use `spec()` to retrieve the full column specification for this data.\n",
      "\u001b[36mi\u001b[39m Specify the column types or set `show_col_types = FALSE` to quiet this message.\n"
     ]
    }
   ],
   "source": [
    "employment <- read_csv(\"https://raw.githubusercontent.com/GWilliam02/STAT201-Project/main/data/employmentData.csv\")"
   ]
  },
  {
   "cell_type": "code",
   "execution_count": 4,
   "id": "956a67e7-626b-41dc-8462-0bab9f8aa9e0",
   "metadata": {},
   "outputs": [
    {
     "data": {
      "text/html": [
       "<table class=\"dataframe\">\n",
       "<caption>A tibble: 6 × 2</caption>\n",
       "<thead>\n",
       "\t<tr><th scope=col>hourly_wage</th><th scope=col>age_group</th></tr>\n",
       "\t<tr><th scope=col>&lt;dbl&gt;</th><th scope=col>&lt;chr&gt;</th></tr>\n",
       "</thead>\n",
       "<tbody>\n",
       "\t<tr><td>28.85</td><td>40 to 44 yr old</td></tr>\n",
       "\t<tr><td>76.92</td><td>40 to 44 yr old</td></tr>\n",
       "\t<tr><td>46.00</td><td>40 to 44 yr old</td></tr>\n",
       "\t<tr><td>35.90</td><td>40 to 44 yr old</td></tr>\n",
       "\t<tr><td>32.21</td><td>40 to 44 yr old</td></tr>\n",
       "\t<tr><td>25.00</td><td>20 to 24yr old </td></tr>\n",
       "</tbody>\n",
       "</table>\n"
      ],
      "text/latex": [
       "A tibble: 6 × 2\n",
       "\\begin{tabular}{ll}\n",
       " hourly\\_wage & age\\_group\\\\\n",
       " <dbl> & <chr>\\\\\n",
       "\\hline\n",
       "\t 28.85 & 40 to 44 yr old\\\\\n",
       "\t 76.92 & 40 to 44 yr old\\\\\n",
       "\t 46.00 & 40 to 44 yr old\\\\\n",
       "\t 35.90 & 40 to 44 yr old\\\\\n",
       "\t 32.21 & 40 to 44 yr old\\\\\n",
       "\t 25.00 & 20 to 24yr old \\\\\n",
       "\\end{tabular}\n"
      ],
      "text/markdown": [
       "\n",
       "A tibble: 6 × 2\n",
       "\n",
       "| hourly_wage &lt;dbl&gt; | age_group &lt;chr&gt; |\n",
       "|---|---|\n",
       "| 28.85 | 40 to 44 yr old |\n",
       "| 76.92 | 40 to 44 yr old |\n",
       "| 46.00 | 40 to 44 yr old |\n",
       "| 35.90 | 40 to 44 yr old |\n",
       "| 32.21 | 40 to 44 yr old |\n",
       "| 25.00 | 20 to 24yr old  |\n",
       "\n"
      ],
      "text/plain": [
       "  hourly_wage age_group      \n",
       "1 28.85       40 to 44 yr old\n",
       "2 76.92       40 to 44 yr old\n",
       "3 46.00       40 to 44 yr old\n",
       "4 35.90       40 to 44 yr old\n",
       "5 32.21       40 to 44 yr old\n",
       "6 25.00       20 to 24yr old "
      ]
     },
     "metadata": {},
     "output_type": "display_data"
    }
   ],
   "source": [
    "employment_clean <- employment |>\n",
    "                    select(NOC_10 ,HRLYEARN,AGE_12) |>\n",
    "                    filter(!is.na(HRLYEARN)) |>\n",
    "                    filter(NOC_10 == \"03\") |>    #Filters out everyone with STEM Occupations\n",
    "                    filter(AGE_12==\"02\"|AGE_12==\"06\") |>\n",
    "                    select(-NOC_10) |>\n",
    "                    rename(age_group = AGE_12,\n",
    "                          hourly_wage = HRLYEARN) |>\n",
    "                    mutate(age_group = case_when(age_group == \"02\" ~ \"20 to 24yr old\",\n",
    "                                                         age_group == \"06\" ~ \"40 to 44 yr old\")\n",
    "                          ,hourly_wage = hourly_wage/100)\n",
    "                    \n",
    "                \n",
    "\n",
    "head(employment_clean)"
   ]
  },
  {
   "cell_type": "markdown",
   "id": "49a55c11-c0c0-4914-91b6-247f5d5434c9",
   "metadata": {},
   "source": [
    "**Table 1: Hourly wages and age group of an indvidual**"
   ]
  },
  {
   "cell_type": "code",
   "execution_count": 5,
   "id": "1fac72cc-9d18-45b1-98a3-bc5de753fb86",
   "metadata": {},
   "outputs": [
    {
     "data": {
      "text/html": [
       "<table class=\"dataframe\">\n",
       "<caption>A tibble: 1 × 2</caption>\n",
       "<thead>\n",
       "\t<tr><th scope=col>initial_dataframe_size</th><th scope=col>size_after_cleaning</th></tr>\n",
       "\t<tr><th scope=col>&lt;int&gt;</th><th scope=col>&lt;int&gt;</th></tr>\n",
       "</thead>\n",
       "<tbody>\n",
       "\t<tr><td>108064</td><td>806</td></tr>\n",
       "</tbody>\n",
       "</table>\n"
      ],
      "text/latex": [
       "A tibble: 1 × 2\n",
       "\\begin{tabular}{ll}\n",
       " initial\\_dataframe\\_size & size\\_after\\_cleaning\\\\\n",
       " <int> & <int>\\\\\n",
       "\\hline\n",
       "\t 108064 & 806\\\\\n",
       "\\end{tabular}\n"
      ],
      "text/markdown": [
       "\n",
       "A tibble: 1 × 2\n",
       "\n",
       "| initial_dataframe_size &lt;int&gt; | size_after_cleaning &lt;int&gt; |\n",
       "|---|---|\n",
       "| 108064 | 806 |\n",
       "\n"
      ],
      "text/plain": [
       "  initial_dataframe_size size_after_cleaning\n",
       "1 108064                 806                "
      ]
     },
     "metadata": {},
     "output_type": "display_data"
    }
   ],
   "source": [
    "data_summary <- tibble(initial_dataframe_size = nrow(employment), size_after_cleaning = nrow(employment_clean))\n",
    "\n",
    "summary_stats <- employment_clean |>\n",
    "                group_by(age_group) |>\n",
    "                summarize(count = n(), \n",
    "                         mean_wage = mean(hourly_wage),\n",
    "                         sd = sd(hourly_wage))\n",
    "data_summary"
   ]
  },
  {
   "cell_type": "markdown",
   "id": "b523a348-c84f-42d4-9597-f10689200512",
   "metadata": {},
   "source": [
    "**Table 2: Cleaned dataframe size**"
   ]
  },
  {
   "cell_type": "code",
   "execution_count": 6,
   "id": "47685b8b-16d0-4747-971c-87c399f77d9f",
   "metadata": {},
   "outputs": [
    {
     "data": {
      "text/html": [
       "<table class=\"dataframe\">\n",
       "<caption>A tibble: 2 × 4</caption>\n",
       "<thead>\n",
       "\t<tr><th scope=col>age_group</th><th scope=col>count</th><th scope=col>mean_wage</th><th scope=col>sd</th></tr>\n",
       "\t<tr><th scope=col>&lt;chr&gt;</th><th scope=col>&lt;int&gt;</th><th scope=col>&lt;dbl&gt;</th><th scope=col>&lt;dbl&gt;</th></tr>\n",
       "</thead>\n",
       "<tbody>\n",
       "\t<tr><td>20 to 24yr old </td><td>220</td><td>26.71486</td><td> 7.937008</td></tr>\n",
       "\t<tr><td>40 to 44 yr old</td><td>586</td><td>46.05520</td><td>16.694721</td></tr>\n",
       "</tbody>\n",
       "</table>\n"
      ],
      "text/latex": [
       "A tibble: 2 × 4\n",
       "\\begin{tabular}{llll}\n",
       " age\\_group & count & mean\\_wage & sd\\\\\n",
       " <chr> & <int> & <dbl> & <dbl>\\\\\n",
       "\\hline\n",
       "\t 20 to 24yr old  & 220 & 26.71486 &  7.937008\\\\\n",
       "\t 40 to 44 yr old & 586 & 46.05520 & 16.694721\\\\\n",
       "\\end{tabular}\n"
      ],
      "text/markdown": [
       "\n",
       "A tibble: 2 × 4\n",
       "\n",
       "| age_group &lt;chr&gt; | count &lt;int&gt; | mean_wage &lt;dbl&gt; | sd &lt;dbl&gt; |\n",
       "|---|---|---|---|\n",
       "| 20 to 24yr old  | 220 | 26.71486 |  7.937008 |\n",
       "| 40 to 44 yr old | 586 | 46.05520 | 16.694721 |\n",
       "\n"
      ],
      "text/plain": [
       "  age_group       count mean_wage sd       \n",
       "1 20 to 24yr old  220   26.71486   7.937008\n",
       "2 40 to 44 yr old 586   46.05520  16.694721"
      ]
     },
     "metadata": {},
     "output_type": "display_data"
    }
   ],
   "source": [
    "summary_stats"
   ]
  },
  {
   "cell_type": "markdown",
   "id": "8f11a907-5248-4a7d-a8c9-ac0f4ae8512b",
   "metadata": {},
   "source": [
    "**Table 3: Summary Statistics of variables of interest**"
   ]
  },
  {
   "cell_type": "markdown",
   "id": "e0355bfb-df16-4c24-94b5-7fe21bc864f9",
   "metadata": {},
   "source": [
    "The raw dataframe contained 108064 respondents in Canada, where each row represents a single participant and their personal information and details on their employment. After data processing, 806 participants with STEM occupations with age groups 20-24 or 40-44 remain in the data set. Preliminary data analysis show a mean hourly wage of CAD 26.71 with a standard deviation of 7.94 for the 220 participants in age group 20-24. However, for the 586 participants in age group 40-44, the mean hourly wage is CAD 46.06 with a standard deviation of 16.69."
   ]
  },
  {
   "cell_type": "code",
   "execution_count": 12,
   "id": "89953bc3-a025-40bd-8559-b5c9e2afd502",
   "metadata": {},
   "outputs": [
    {
     "name": "stderr",
     "output_type": "stream",
     "text": [
      "Warning message:\n",
      "\"Ignoring unknown parameters: transparency\"\n",
      "`stat_bin()` using `bins = 30`. Pick better value with `binwidth`.\n",
      "\n"
     ]
    },
    {
     "data": {
      "image/png": "[encoded data removed]",
      "text/plain": [
       "plot without title"
      ]
     },
     "metadata": {
      "image/png": {
       "height": 600,
       "width": 600
      }
     },
     "output_type": "display_data"
    }
   ],
   "source": [
    "plt_age02 <- employment_clean %>% \n",
    "    #filter(age_group == \"20 to 24yr old\") %>%\n",
    "    ggplot() +\n",
    "    geom_histogram(aes(x=hourly_wage,color=age_group,fill=age_group)) +\n",
    "    ggtitle(\"Graph 1: Hourly Wage distribution of 20 to 24yr olds\") +\n",
    "    xlab(\"Hourly Earnings ($CAD)\") +\n",
    "    theme(text = element_text(size = 20))\n",
    "options(repr.plot.width = 10, repr.plot.height =10)\n",
    "plt_age02\n",
    "\n",
    "\n",
    "# plt_age02\n",
    "# plt_age06\n",
    "#grid.arrange(plt_age02, plt_age06, ncol=2)"
   ]
  },
  {
   "cell_type": "code",
   "execution_count": 8,
   "id": "61f00255-00ad-461a-ac40-bfdb2a5cb29d",
   "metadata": {},
   "outputs": [
    {
     "data": {
      "image/png": "[encoded data removed]",
      "text/plain": [
       "plot without title"
      ]
     },
     "metadata": {
      "image/png": {
       "height": 600,
       "width": 600
      }
     },
     "output_type": "display_data"
    }
   ],
   "source": [
    "age_vs_wage_boxplots <-\n",
    "    employment_clean %>% \n",
    "    ggplot() +\n",
    "    geom_boxplot(aes(x=age_group, y=hourly_wage, fill = age_group)) +\n",
    "    theme(text = element_text(size = 22)) +\n",
    "    ggtitle(\"Grpah 2: Boxplot of Earnings For Each Age Group\") + \n",
    "    xlab(\"Age Group\") + \n",
    "    ylab(\"Hourly Earnings ($CAD)\") + \n",
    "    guides(fill = \"none\")\n",
    "age_vs_wage_boxplots"
   ]
  },
  {
   "cell_type": "markdown",
   "id": "13b88b12-c011-4c22-b2ce-53c62dd5d4dc",
   "metadata": {},
   "source": [
    "### Methodology ###"
   ]
  },
  {
   "cell_type": "markdown",
   "id": "68717a61-3ac4-433b-9a6e-9bfa1c3dd0af",
   "metadata": {},
   "source": [
    "We refer to s1 as the sample of workers in age group 20-24, s2 is the sample with workers in age group 40-44, and μ as the “mean wage”. As this investigation involves two independent datasets of different sizes, the two-sample t-test will be used with the following null hypothesis, $H_0$: $\\mu_2$ - $\\mu_1$ = 0, and the alternate hypothesis, $H_1: \\mu_2 - \\mu1 > 0$. By conducting the t-test to obtain the test statistic:\n",
    "\n",
    "$$\n",
    "T = \\frac{\\bar{x}-\\bar{y} - d_0}{\\sqrt{\\frac{s_1^2}{n_1} + \\frac{s_2^2}{n_2}} }\n",
    "$$\n",
    "\n",
    "Along with the degrees of freedom under the null model:\n",
    "\n",
    "$$\n",
    "\\nu = \\frac{\n",
    "    \\left(\\frac{s_1^2}{n_1}+\\frac{s_2^2}{n_2}\\right)^2\n",
    "}\n",
    "{\n",
    "\\frac{s_1^4}{n_1^2(n_1-1)}+\\frac{s_2^4}{n_2^2(n_2-1)}\n",
    "}\n",
    "$$\n",
    "\n",
    "The forementioned test statistics can be used to produce a p-value which will determine the validity of the null hypothesis under a 5% significance level. Visualizations of the t-distribution can be produced with ggplot to approximate the sampling distribution.\n",
    "Normality was assessed for each age group and visual inspections suggest that both distributions are normal. Hence, the null model is valid for all sample size and we do not need to rely on the CLT. The test will be conducted Asymptotically.\n",
    "\n",
    " "
   ]
  },
  {
   "cell_type": "markdown",
   "id": "0faa2513-b8ba-41a8-9a54-f25d4d98008d",
   "metadata": {},
   "source": [
    "### Results ###"
   ]
  },
  {
   "cell_type": "code",
   "execution_count": 9,
   "id": "69a75d70-af69-4ccd-b90a-cfb2d9785031",
   "metadata": {},
   "outputs": [
    {
     "name": "stdout",
     "output_type": "stream",
     "text": [
      "T value: -22.15625"
     ]
    }
   ],
   "source": [
    "age20to24 <- employment_clean %>% \n",
    "    filter(age_group == \"20 to 24yr old\")\n",
    "\n",
    "age40to44 <- employment_clean %>% \n",
    "    filter(age_group == \"40 to 44 yr old\")\n",
    "\n",
    "xbar <- mean(age20to24$hourly_wage)\n",
    "ybar <- mean(age40to44$hourly_wage)\n",
    "\n",
    "xSd <- var(age20to24$hourly_wage)\n",
    "ySd <- var(age40to44$hourly_wage)\n",
    "\n",
    "xn <- length(age20to24$hourly_wage)\n",
    "yn <- length(age40to44$hourly_wage)\n",
    "\n",
    "v <- ((xSd/xn)+(ySd/yn))^2 / ((xSd^2/((xn^2)*(xn-1)) + ySd^2/((yn^2)*(yn-1))))\n",
    "\n",
    "\n",
    "T <- (xbar-ybar)/sqrt(xSd/xn+ySd/yn)\n",
    "cat(\"T value:\",T)\n"
   ]
  },
  {
   "cell_type": "code",
   "execution_count": 10,
   "id": "28b3ea24-e807-4f18-9c87-dbc0b625c729",
   "metadata": {},
   "outputs": [
    {
     "data": {
      "text/html": [
       "<table class=\"dataframe\">\n",
       "<caption>A tibble: 1 × 2</caption>\n",
       "<thead>\n",
       "\t<tr><th scope=col>lower_ci</th><th scope=col>upper_ci</th></tr>\n",
       "\t<tr><th scope=col>&lt;dbl&gt;</th><th scope=col>&lt;dbl&gt;</th></tr>\n",
       "</thead>\n",
       "<tbody>\n",
       "\t<tr><td>0</td><td>-38.68068</td></tr>\n",
       "</tbody>\n",
       "</table>\n"
      ],
      "text/latex": [
       "A tibble: 1 × 2\n",
       "\\begin{tabular}{ll}\n",
       " lower\\_ci & upper\\_ci\\\\\n",
       " <dbl> & <dbl>\\\\\n",
       "\\hline\n",
       "\t 0 & -38.68068\\\\\n",
       "\\end{tabular}\n"
      ],
      "text/markdown": [
       "\n",
       "A tibble: 1 × 2\n",
       "\n",
       "| lower_ci &lt;dbl&gt; | upper_ci &lt;dbl&gt; |\n",
       "|---|---|\n",
       "| 0 | -38.68068 |\n",
       "\n"
      ],
      "text/plain": [
       "  lower_ci upper_ci \n",
       "1 0        -38.68068"
      ]
     },
     "metadata": {},
     "output_type": "display_data"
    }
   ],
   "source": [
    "se = sqrt((xSd/xn)+(ySd/yn))\n",
    "\n",
    "age_mean_ci <- tibble(lower_ci = (xbar-ybar)-T*se,upper_ci = (xbar-ybar)+T*se)\n",
    "age_mean_ci"
   ]
  },
  {
   "cell_type": "markdown",
   "id": "82fe0fa5-f9b9-4b3c-bb1c-9e15057d2602",
   "metadata": {},
   "source": [
    "**Table 4: Confidance interval**"
   ]
  },
  {
   "cell_type": "markdown",
   "id": "f9a8efeb-0300-4675-bd0f-9cf1ea696f51",
   "metadata": {},
   "source": [
    "## Discussion ##"
   ]
  },
  {
   "cell_type": "code",
   "execution_count": 11,
   "id": "8c152fb7-d450-4cff-9816-d1302c55417c",
   "metadata": {},
   "outputs": [
    {
     "data": {
      "text/html": [
       "<table class=\"dataframe\">\n",
       "<caption>A data.frame: 1 × 4</caption>\n",
       "<thead>\n",
       "\t<tr><th scope=col>T_value</th><th scope=col>P_value</th><th scope=col>lower_ci</th><th scope=col>upper_ci</th></tr>\n",
       "\t<tr><th scope=col>&lt;dbl&gt;</th><th scope=col>&lt;dbl&gt;</th><th scope=col>&lt;dbl&gt;</th><th scope=col>&lt;dbl&gt;</th></tr>\n",
       "</thead>\n",
       "<tbody>\n",
       "\t<tr><td>-22.15625</td><td>1.153059e-84</td><td>0</td><td>-38.68068</td></tr>\n",
       "</tbody>\n",
       "</table>\n"
      ],
      "text/latex": [
       "A data.frame: 1 × 4\n",
       "\\begin{tabular}{llll}\n",
       " T\\_value & P\\_value & lower\\_ci & upper\\_ci\\\\\n",
       " <dbl> & <dbl> & <dbl> & <dbl>\\\\\n",
       "\\hline\n",
       "\t -22.15625 & 1.153059e-84 & 0 & -38.68068\\\\\n",
       "\\end{tabular}\n"
      ],
      "text/markdown": [
       "\n",
       "A data.frame: 1 × 4\n",
       "\n",
       "| T_value &lt;dbl&gt; | P_value &lt;dbl&gt; | lower_ci &lt;dbl&gt; | upper_ci &lt;dbl&gt; |\n",
       "|---|---|---|---|\n",
       "| -22.15625 | 1.153059e-84 | 0 | -38.68068 |\n",
       "\n"
      ],
      "text/plain": [
       "  T_value   P_value      lower_ci upper_ci \n",
       "1 -22.15625 1.153059e-84 0        -38.68068"
      ]
     },
     "metadata": {},
     "output_type": "display_data"
    }
   ],
   "source": [
    "table5 <- data.frame(T_value=T,\n",
    "                 P_value=pt(T,v,lower.tail=TRUE),\n",
    "                Lower_Confidance_Interval=age_mean_ci[1],\n",
    "                 Upper_Confidance_Interval=age_mean_ci[2])\n",
    "colnames(table1) <- c(\"T value\", \"P value\",\"Lower Confidance Interval\",\"Upper Confidance Interval\")\n",
    "table5\n",
    "\n"
   ]
  },
  {
   "cell_type": "markdown",
   "id": "0735fcf7-0533-44dd-814a-f5791dd82c34",
   "metadata": {},
   "source": [
    "**Table 5: Summary of results"
   ]
  },
  {
   "cell_type": "markdown",
   "id": "9c058dcf-69c6-43a0-8b24-984d06982b8f",
   "metadata": {},
   "source": [
    "We expect to find a significant difference between the workers’ incomes of the two age groups, with the older generation having a higher income with a big difference. Industries value work experience, and people of older age having a stronger resume compared to the younger group  being introduced to the workforce. Individuals also gain the opportunity to advance in their company with experience."
   ]
  },
  {
   "cell_type": "markdown",
   "id": "270d25c4-0cde-4ce2-8f4f-70655d02658b",
   "metadata": {},
   "source": [
    "### Significance and Impact ###"
   ]
  },
  {
   "cell_type": "markdown",
   "id": "347bff88-21a0-4bee-bec7-a26e21b4e899",
   "metadata": {},
   "source": [
    "Knowing the income of different age groups can give insight to the longevity an individual has in the workforce. Our data gives an estimation of how much an individual is worth at their age range. Workers can approximate their value and negotiate their wage accordingly. This aids individuals in recognizing if they’re underpaid in comparison to their counterparts. "
   ]
  },
  {
   "cell_type": "markdown",
   "id": "8dac7fc2-3eaa-43fb-8888-5d0cba950a6a",
   "metadata": {},
   "source": [
    "### Future Questions ###"
   ]
  },
  {
   "cell_type": "markdown",
   "id": "7cf57aa5-49f3-475e-98e0-521fa48b103d",
   "metadata": {},
   "source": [
    "After we conclude on this inferential question, we can further look at more specific questions. Such as: is the difference in hourly wage amongst the age groups constant between different major cities across Canada, or do they deviate? In which we can gain more insights about what types of jobs may largely depend on the experience of individuals. Moreover, many students choose to enter a trade workforce coming out of high school. They are likely to enter the workforce faster than university students and gain more experience.  How do the wages compare between workers in trades and workers in STEM across different age groups? Additionally, many higher level jobs pay by salary and don’t have set work hours, which doesn’t account for a portion of the population. Is the difference in salary significant amongst these age groups? \n"
   ]
  },
  {
   "cell_type": "markdown",
   "id": "374cb353-21ba-4c30-a353-4848b6a7bdd3",
   "metadata": {},
   "source": [
    "## References ##"
   ]
  },
  {
   "cell_type": "markdown",
   "id": "b9f39fb9-10ca-46bc-9241-a802c3743d59",
   "metadata": {},
   "source": [
    "Canada,. (2023). The Daily — Consumer Price Index, June 2023. Statcan.gc.ca. https://www150.statcan.gc.ca/n1/daily-quotidien/230718/dq230718a-eng.htm?HPA=1&indid=3665-1&indgeo=0  \n",
    "\n",
    "\n",
    "O’Rourke, B. (2021, November 18). Increasing access and opportunity in STEM crucial, say experts. Harvard Gazette; Harvard Gazette. https://news.harvard.edu/gazette/story/2021/11/increasing-access-and-opportunity-in-stem-crucial-say-experts/\n",
    "\n",
    "\n",
    "Tilo, Dexter. “31% of Canadians Have Never Tried to Negotiate Salary.” HRD Canada, 22 July 2022, www.hcamag.com/ca/specialization/employment-law/31-of-canadians-have-never-tried-to-negotiate-salary/414171. https://www.hcamag.com/ca/specialization/employment-law/31-of-canadians-have-never-tried-to-negotiate-salary/414171"
   ]
  }
 ],
 "metadata": {
  "kernelspec": {
   "display_name": "R",
   "language": "R",
   "name": "ir"
  },
  "language_info": {
   "codemirror_mode": "r",
   "file_extension": ".r",
   "mimetype": "text/x-r-source",
   "name": "R",
   "pygments_lexer": "r",
   "version": "4.1.1"
  }
 },
 "nbformat": 4,
 "nbformat_minor": 5
}
