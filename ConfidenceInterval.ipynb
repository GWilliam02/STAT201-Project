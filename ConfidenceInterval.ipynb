{
 "cells": [
  {
   "cell_type": "code",
   "execution_count": 1,
   "id": "84a4c559-4641-40cc-a76f-e094e0370165",
   "metadata": {},
   "outputs": [
    {
     "name": "stderr",
     "output_type": "stream",
     "text": [
      "-- \u001b[1mAttaching packages\u001b[22m --------------------------------- tidyverse 1.3.1 --\n",
      "\n",
      "\u001b[32mv\u001b[39m \u001b[34mggplot2\u001b[39m 3.3.6      \u001b[32mv\u001b[39m \u001b[34mpurrr  \u001b[39m 0.3.4 \n",
      "\u001b[32mv\u001b[39m \u001b[34mtibble \u001b[39m 3.1.8      \u001b[32mv\u001b[39m \u001b[34mdplyr  \u001b[39m 1.0.10\n",
      "\u001b[32mv\u001b[39m \u001b[34mtidyr  \u001b[39m 1.2.0      \u001b[32mv\u001b[39m \u001b[34mstringr\u001b[39m 1.4.1 \n",
      "\u001b[32mv\u001b[39m \u001b[34mreadr  \u001b[39m 2.1.2      \u001b[32mv\u001b[39m \u001b[34mforcats\u001b[39m 0.5.2 \n",
      "\n",
      "Warning message:\n",
      "\"package 'ggplot2' was built under R version 4.1.3\"\n",
      "Warning message:\n",
      "\"package 'tibble' was built under R version 4.1.3\"\n",
      "Warning message:\n",
      "\"package 'tidyr' was built under R version 4.1.2\"\n",
      "Warning message:\n",
      "\"package 'readr' was built under R version 4.1.2\"\n",
      "Warning message:\n",
      "\"package 'dplyr' was built under R version 4.1.3\"\n",
      "Warning message:\n",
      "\"package 'stringr' was built under R version 4.1.3\"\n",
      "Warning message:\n",
      "\"package 'forcats' was built under R version 4.1.3\"\n",
      "-- \u001b[1mConflicts\u001b[22m ------------------------------------ tidyverse_conflicts() --\n",
      "\u001b[31mx\u001b[39m \u001b[34mdplyr\u001b[39m::\u001b[32mfilter()\u001b[39m masks \u001b[34mstats\u001b[39m::filter()\n",
      "\u001b[31mx\u001b[39m \u001b[34mdplyr\u001b[39m::\u001b[32mlag()\u001b[39m    masks \u001b[34mstats\u001b[39m::lag()\n",
      "\n",
      "Warning message:\n",
      "\"package 'broom' was built under R version 4.1.3\"\n",
      "Warning message:\n",
      "\"package 'repr' was built under R version 4.1.2\"\n",
      "Warning message:\n",
      "\"package 'infer' was built under R version 4.1.3\"\n",
      "Loading required package: gridExtra\n",
      "\n",
      "\n",
      "Attaching package: 'gridExtra'\n",
      "\n",
      "\n",
      "The following object is masked from 'package:dplyr':\n",
      "\n",
      "    combine\n",
      "\n",
      "\n"
     ]
    }
   ],
   "source": [
    "library(tidyverse)\n",
    "library(broom)\n",
    "library(repr)\n",
    "library(digest)\n",
    "library(infer)\n",
    "require(gridExtra)"
   ]
  },
  {
   "cell_type": "code",
   "execution_count": 18,
   "id": "c367410d-d9a7-488b-9621-099002238d2d",
   "metadata": {},
   "outputs": [
    {
     "name": "stderr",
     "output_type": "stream",
     "text": [
      "\u001b[1mRows: \u001b[22m\u001b[34m108064\u001b[39m \u001b[1mColumns: \u001b[22m\u001b[34m60\u001b[39m\n",
      "\u001b[36m--\u001b[39m \u001b[1mColumn specification\u001b[22m \u001b[36m--------------------------------------------------\u001b[39m\n",
      "\u001b[1mDelimiter:\u001b[22m \",\"\n",
      "\u001b[31mchr\u001b[39m  (7): SURVMNTH, AGE_12, NAICS_21, NOC_10, NOC_43, WHYLEFTN, EFAMTYPE\n",
      "\u001b[32mdbl\u001b[39m (53): REC_NUM, SURVYEAR, LFSSTAT, PROV, CMA, AGE_6, SEX, MARSTAT, EDUC, ...\n",
      "\n",
      "\u001b[36mi\u001b[39m Use `spec()` to retrieve the full column specification for this data.\n",
      "\u001b[36mi\u001b[39m Specify the column types or set `show_col_types = FALSE` to quiet this message.\n"
     ]
    },
    {
     "data": {
      "text/html": [
       "<table class=\"dataframe\">\n",
       "<caption>A tibble: 6 × 2</caption>\n",
       "<thead>\n",
       "\t<tr><th scope=col>hourly_wage</th><th scope=col>age_group</th></tr>\n",
       "\t<tr><th scope=col>&lt;dbl&gt;</th><th scope=col>&lt;chr&gt;</th></tr>\n",
       "</thead>\n",
       "<tbody>\n",
       "\t<tr><td>28.85</td><td>2</td></tr>\n",
       "\t<tr><td>76.92</td><td>2</td></tr>\n",
       "\t<tr><td>46.00</td><td>2</td></tr>\n",
       "\t<tr><td>35.90</td><td>2</td></tr>\n",
       "\t<tr><td>32.21</td><td>2</td></tr>\n",
       "\t<tr><td>25.00</td><td>1</td></tr>\n",
       "</tbody>\n",
       "</table>\n"
      ],
      "text/latex": [
       "A tibble: 6 × 2\n",
       "\\begin{tabular}{ll}\n",
       " hourly\\_wage & age\\_group\\\\\n",
       " <dbl> & <chr>\\\\\n",
       "\\hline\n",
       "\t 28.85 & 2\\\\\n",
       "\t 76.92 & 2\\\\\n",
       "\t 46.00 & 2\\\\\n",
       "\t 35.90 & 2\\\\\n",
       "\t 32.21 & 2\\\\\n",
       "\t 25.00 & 1\\\\\n",
       "\\end{tabular}\n"
      ],
      "text/markdown": [
       "\n",
       "A tibble: 6 × 2\n",
       "\n",
       "| hourly_wage &lt;dbl&gt; | age_group &lt;chr&gt; |\n",
       "|---|---|\n",
       "| 28.85 | 2 |\n",
       "| 76.92 | 2 |\n",
       "| 46.00 | 2 |\n",
       "| 35.90 | 2 |\n",
       "| 32.21 | 2 |\n",
       "| 25.00 | 1 |\n",
       "\n"
      ],
      "text/plain": [
       "  hourly_wage age_group\n",
       "1 28.85       2        \n",
       "2 76.92       2        \n",
       "3 46.00       2        \n",
       "4 35.90       2        \n",
       "5 32.21       2        \n",
       "6 25.00       1        "
      ]
     },
     "metadata": {},
     "output_type": "display_data"
    }
   ],
   "source": [
    "employment <- read_csv(\"https://raw.githubusercontent.com/GWilliam02/STAT201-Project/main/data/employmentData.csv\")\n",
    "employment_clean <- employment |>\n",
    "                    select(NOC_10 ,HRLYEARN,AGE_12) |>\n",
    "                    filter(!is.na(HRLYEARN)) |>\n",
    "                    filter(NOC_10 == \"03\") |>    #Filters out everyone with STEM Occupations\n",
    "                    filter(AGE_12==\"02\"|AGE_12==\"06\") |>\n",
    "                    select(-NOC_10) |>\n",
    "                    rename(age_group = AGE_12,\n",
    "                          hourly_wage = HRLYEARN) |>\n",
    "                    mutate(age_group = case_when(age_group == \"02\" ~ \"1\",\n",
    "                                                         age_group == \"06\" ~ \"2\")\n",
    "                          ,hourly_wage = hourly_wage/100)\n",
    "                    \n",
    "                \n",
    "\n",
    "head(employment_clean)"
   ]
  },
  {
   "cell_type": "code",
   "execution_count": 4,
   "id": "2fa87c56-2af7-4473-aa65-b131666a9ee1",
   "metadata": {},
   "outputs": [
    {
     "data": {
      "text/html": [
       "<table class=\"dataframe\">\n",
       "<caption>A tibble: 1 × 10</caption>\n",
       "<thead>\n",
       "\t<tr><th scope=col>estimate</th><th scope=col>estimate1</th><th scope=col>estimate2</th><th scope=col>statistic</th><th scope=col>p.value</th><th scope=col>parameter</th><th scope=col>conf.low</th><th scope=col>conf.high</th><th scope=col>method</th><th scope=col>alternative</th></tr>\n",
       "\t<tr><th scope=col>&lt;dbl&gt;</th><th scope=col>&lt;dbl&gt;</th><th scope=col>&lt;dbl&gt;</th><th scope=col>&lt;dbl&gt;</th><th scope=col>&lt;dbl&gt;</th><th scope=col>&lt;dbl&gt;</th><th scope=col>&lt;dbl&gt;</th><th scope=col>&lt;dbl&gt;</th><th scope=col>&lt;chr&gt;</th><th scope=col>&lt;chr&gt;</th></tr>\n",
       "</thead>\n",
       "<tbody>\n",
       "\t<tr><td>19.34034</td><td>46.0552</td><td>26.71486</td><td>22.15625</td><td>1</td><td>762.8401</td><td>-Inf</td><td>20.77789</td><td>Welch Two Sample t-test</td><td>less</td></tr>\n",
       "</tbody>\n",
       "</table>\n"
      ],
      "text/latex": [
       "A tibble: 1 × 10\n",
       "\\begin{tabular}{llllllllll}\n",
       " estimate & estimate1 & estimate2 & statistic & p.value & parameter & conf.low & conf.high & method & alternative\\\\\n",
       " <dbl> & <dbl> & <dbl> & <dbl> & <dbl> & <dbl> & <dbl> & <dbl> & <chr> & <chr>\\\\\n",
       "\\hline\n",
       "\t 19.34034 & 46.0552 & 26.71486 & 22.15625 & 1 & 762.8401 & -Inf & 20.77789 & Welch Two Sample t-test & less\\\\\n",
       "\\end{tabular}\n"
      ],
      "text/markdown": [
       "\n",
       "A tibble: 1 × 10\n",
       "\n",
       "| estimate &lt;dbl&gt; | estimate1 &lt;dbl&gt; | estimate2 &lt;dbl&gt; | statistic &lt;dbl&gt; | p.value &lt;dbl&gt; | parameter &lt;dbl&gt; | conf.low &lt;dbl&gt; | conf.high &lt;dbl&gt; | method &lt;chr&gt; | alternative &lt;chr&gt; |\n",
       "|---|---|---|---|---|---|---|---|---|---|\n",
       "| 19.34034 | 46.0552 | 26.71486 | 22.15625 | 1 | 762.8401 | -Inf | 20.77789 | Welch Two Sample t-test | less |\n",
       "\n"
      ],
      "text/plain": [
       "  estimate estimate1 estimate2 statistic p.value parameter conf.low conf.high\n",
       "1 19.34034 46.0552   26.71486  22.15625  1       762.8401  -Inf     20.77789 \n",
       "  method                  alternative\n",
       "1 Welch Two Sample t-test less       "
      ]
     },
     "metadata": {},
     "output_type": "display_data"
    }
   ],
   "source": [
    "tidy(\n",
    "    t.test(\n",
    "            x = pull(filter(employment_clean, age_group == \"2\"), hourly_wage),\n",
    "            y = pull(filter(employment_clean, age_group == \"1\"), hourly_wage),\n",
    "            alternative = \"less\"\n",
    "    ))"
   ]
  },
  {
   "cell_type": "code",
   "execution_count": 11,
   "id": "4340de7b-69b4-4449-b82d-3566176cb7c6",
   "metadata": {},
   "outputs": [
    {
     "data": {
      "text/html": [
       "<table class=\"dataframe\">\n",
       "<caption>A tibble: 1 × 3</caption>\n",
       "<thead>\n",
       "\t<tr><th scope=col>mean</th><th scope=col>var</th><th scope=col>n</th></tr>\n",
       "\t<tr><th scope=col>&lt;dbl&gt;</th><th scope=col>&lt;dbl&gt;</th><th scope=col>&lt;int&gt;</th></tr>\n",
       "</thead>\n",
       "<tbody>\n",
       "\t<tr><td>26.71486</td><td>62.9961</td><td>220</td></tr>\n",
       "</tbody>\n",
       "</table>\n"
      ],
      "text/latex": [
       "A tibble: 1 × 3\n",
       "\\begin{tabular}{lll}\n",
       " mean & var & n\\\\\n",
       " <dbl> & <dbl> & <int>\\\\\n",
       "\\hline\n",
       "\t 26.71486 & 62.9961 & 220\\\\\n",
       "\\end{tabular}\n"
      ],
      "text/markdown": [
       "\n",
       "A tibble: 1 × 3\n",
       "\n",
       "| mean &lt;dbl&gt; | var &lt;dbl&gt; | n &lt;int&gt; |\n",
       "|---|---|---|\n",
       "| 26.71486 | 62.9961 | 220 |\n",
       "\n"
      ],
      "text/plain": [
       "  mean     var     n  \n",
       "1 26.71486 62.9961 220"
      ]
     },
     "metadata": {},
     "output_type": "display_data"
    },
    {
     "data": {
      "text/html": [
       "<table class=\"dataframe\">\n",
       "<caption>A tibble: 1 × 3</caption>\n",
       "<thead>\n",
       "\t<tr><th scope=col>mean</th><th scope=col>var</th><th scope=col>n</th></tr>\n",
       "\t<tr><th scope=col>&lt;dbl&gt;</th><th scope=col>&lt;dbl&gt;</th><th scope=col>&lt;int&gt;</th></tr>\n",
       "</thead>\n",
       "<tbody>\n",
       "\t<tr><td>46.0552</td><td>278.7137</td><td>586</td></tr>\n",
       "</tbody>\n",
       "</table>\n"
      ],
      "text/latex": [
       "A tibble: 1 × 3\n",
       "\\begin{tabular}{lll}\n",
       " mean & var & n\\\\\n",
       " <dbl> & <dbl> & <int>\\\\\n",
       "\\hline\n",
       "\t 46.0552 & 278.7137 & 586\\\\\n",
       "\\end{tabular}\n"
      ],
      "text/markdown": [
       "\n",
       "A tibble: 1 × 3\n",
       "\n",
       "| mean &lt;dbl&gt; | var &lt;dbl&gt; | n &lt;int&gt; |\n",
       "|---|---|---|\n",
       "| 46.0552 | 278.7137 | 586 |\n",
       "\n"
      ],
      "text/plain": [
       "  mean    var      n  \n",
       "1 46.0552 278.7137 586"
      ]
     },
     "metadata": {},
     "output_type": "display_data"
    }
   ],
   "source": [
    "x <- employment_clean |>\n",
    "        filter(age_group == 1) |>\n",
    "        summarize(mean = mean(hourly_wage),\n",
    "                 var = var(hourly_wage),\n",
    "                 n = n())\n",
    "\n",
    "y <- employment_clean |>\n",
    "        filter(age_group == 2) |>\n",
    "        summarize(mean = mean(hourly_wage),\n",
    "                 var = var(hourly_wage),\n",
    "                 n = n())\n",
    "\n",
    "x\n",
    "y"
   ]
  },
  {
   "cell_type": "code",
   "execution_count": 6,
   "id": "9d1b3ab7-8c99-4937-8619-e08e1adea338",
   "metadata": {},
   "outputs": [
    {
     "data": {
      "text/html": [
       "-22.1562459604414"
      ],
      "text/latex": [
       "-22.1562459604414"
      ],
      "text/markdown": [
       "-22.1562459604414"
      ],
      "text/plain": [
       "[1] -22.15625"
      ]
     },
     "metadata": {},
     "output_type": "display_data"
    }
   ],
   "source": [
    "t <- (x$mean-y$mean)/sqrt(x$var/x$n + y$var/y$n)\n",
    "t"
   ]
  },
  {
   "cell_type": "code",
   "execution_count": 7,
   "id": "f2ca4fce-579a-4809-99c4-78a34b8cc771",
   "metadata": {},
   "outputs": [],
   "source": [
    "v <- 762.8"
   ]
  },
  {
   "cell_type": "code",
   "execution_count": null,
   "id": "030b2ac0-781f-4267-9010-c364b3308314",
   "metadata": {},
   "outputs": [],
   "source": [
    "# x_bootstrap <- employment_clean |>\n",
    "#         filter(age_group == 1) |>\n",
    "#         select(-age_group) |>\n",
    "#         specify(response = hourly_wage) |>\n",
    "#         generate(reps = 1000, type = \"bootstrap\") |>\n",
    "#         calculate(stat = \"mean\")\n",
    "\n",
    "# y_bootstrap <- employment_clean |>\n",
    "#         filter(age_group == 2) |>\n",
    "#         select(-age_group) |>\n",
    "#         specify(response = hourly_wage) |>\n",
    "#         generate(reps = 1000, type = \"bootstrap\") |>\n",
    "#         calculate(stat = \"mean\")\n"
   ]
  },
  {
   "cell_type": "code",
   "execution_count": null,
   "id": "37049dd0-c417-4bfe-b843-c60ff6cef66e",
   "metadata": {},
   "outputs": [],
   "source": [
    "# x_ci <- x_bootstrap |>\n",
    "#             get_ci(level = 0.95, type = \"percentile\")\n",
    "# y_ci <- y_bootstrap |>\n",
    "#             get_ci(level =0.95, type = \"percentile\")\n",
    "\n",
    "# x_ci\n",
    "# y_ci"
   ]
  },
  {
   "cell_type": "code",
   "execution_count": null,
   "id": "302bf439-e19a-4ac5-855b-21b759ff9006",
   "metadata": {},
   "outputs": [],
   "source": [
    "# diff_ci <- tibble(lower_ci = lower_ci <- x_ci$lower_ci - y_ci$upper_ci,\n",
    "#                  upper_ci = upper_ci <- x_ci$upper_ci - y_ci$lower_ci)\n",
    "# diff_ci"
   ]
  },
  {
   "cell_type": "code",
   "execution_count": 14,
   "id": "6cdac49d-159b-46d1-9435-900201bf5635",
   "metadata": {},
   "outputs": [
    {
     "data": {
      "text/html": [
       "<table class=\"dataframe\">\n",
       "<caption>A tibble: 6 × 2</caption>\n",
       "<thead>\n",
       "\t<tr><th scope=col>hourly_wage</th><th scope=col>age_group</th></tr>\n",
       "\t<tr><th scope=col>&lt;dbl&gt;</th><th scope=col>&lt;dbl&gt;</th></tr>\n",
       "</thead>\n",
       "<tbody>\n",
       "\t<tr><td>28.85</td><td>2</td></tr>\n",
       "\t<tr><td>76.92</td><td>2</td></tr>\n",
       "\t<tr><td>46.00</td><td>2</td></tr>\n",
       "\t<tr><td>35.90</td><td>2</td></tr>\n",
       "\t<tr><td>32.21</td><td>2</td></tr>\n",
       "\t<tr><td>25.00</td><td>1</td></tr>\n",
       "</tbody>\n",
       "</table>\n"
      ],
      "text/latex": [
       "A tibble: 6 × 2\n",
       "\\begin{tabular}{ll}\n",
       " hourly\\_wage & age\\_group\\\\\n",
       " <dbl> & <dbl>\\\\\n",
       "\\hline\n",
       "\t 28.85 & 2\\\\\n",
       "\t 76.92 & 2\\\\\n",
       "\t 46.00 & 2\\\\\n",
       "\t 35.90 & 2\\\\\n",
       "\t 32.21 & 2\\\\\n",
       "\t 25.00 & 1\\\\\n",
       "\\end{tabular}\n"
      ],
      "text/markdown": [
       "\n",
       "A tibble: 6 × 2\n",
       "\n",
       "| hourly_wage &lt;dbl&gt; | age_group &lt;dbl&gt; |\n",
       "|---|---|\n",
       "| 28.85 | 2 |\n",
       "| 76.92 | 2 |\n",
       "| 46.00 | 2 |\n",
       "| 35.90 | 2 |\n",
       "| 32.21 | 2 |\n",
       "| 25.00 | 1 |\n",
       "\n"
      ],
      "text/plain": [
       "  hourly_wage age_group\n",
       "1 28.85       2        \n",
       "2 76.92       2        \n",
       "3 46.00       2        \n",
       "4 35.90       2        \n",
       "5 32.21       2        \n",
       "6 25.00       1        "
      ]
     },
     "metadata": {},
     "output_type": "display_data"
    }
   ],
   "source": [
    "head(employment_clean)"
   ]
  },
  {
   "cell_type": "code",
   "execution_count": 37,
   "id": "401651ff-6093-4512-855d-833b0f4de533",
   "metadata": {},
   "outputs": [
    {
     "data": {
      "text/html": [
       "<table class=\"dataframe\">\n",
       "<caption>A infer: 6 × 2</caption>\n",
       "<thead>\n",
       "\t<tr><th scope=col>replicate</th><th scope=col>stat</th></tr>\n",
       "\t<tr><th scope=col>&lt;int&gt;</th><th scope=col>&lt;dbl&gt;</th></tr>\n",
       "</thead>\n",
       "<tbody>\n",
       "\t<tr><td>1</td><td>-18.38792</td></tr>\n",
       "\t<tr><td>2</td><td>-18.60045</td></tr>\n",
       "\t<tr><td>3</td><td>-20.78180</td></tr>\n",
       "\t<tr><td>4</td><td>-20.56874</td></tr>\n",
       "\t<tr><td>5</td><td>-18.31450</td></tr>\n",
       "\t<tr><td>6</td><td>-19.44433</td></tr>\n",
       "</tbody>\n",
       "</table>\n"
      ],
      "text/latex": [
       "A infer: 6 × 2\n",
       "\\begin{tabular}{ll}\n",
       " replicate & stat\\\\\n",
       " <int> & <dbl>\\\\\n",
       "\\hline\n",
       "\t 1 & -18.38792\\\\\n",
       "\t 2 & -18.60045\\\\\n",
       "\t 3 & -20.78180\\\\\n",
       "\t 4 & -20.56874\\\\\n",
       "\t 5 & -18.31450\\\\\n",
       "\t 6 & -19.44433\\\\\n",
       "\\end{tabular}\n"
      ],
      "text/markdown": [
       "\n",
       "A infer: 6 × 2\n",
       "\n",
       "| replicate &lt;int&gt; | stat &lt;dbl&gt; |\n",
       "|---|---|\n",
       "| 1 | -18.38792 |\n",
       "| 2 | -18.60045 |\n",
       "| 3 | -20.78180 |\n",
       "| 4 | -20.56874 |\n",
       "| 5 | -18.31450 |\n",
       "| 6 | -19.44433 |\n",
       "\n"
      ],
      "text/plain": [
       "  replicate stat     \n",
       "1 1         -18.38792\n",
       "2 2         -18.60045\n",
       "3 3         -20.78180\n",
       "4 4         -20.56874\n",
       "5 5         -18.31450\n",
       "6 6         -19.44433"
      ]
     },
     "metadata": {},
     "output_type": "display_data"
    }
   ],
   "source": [
    "null_model_wage <- employment_clean |>\n",
    "                    specify(formula = hourly_wage ~ age_group) |>\n",
    "                    generate(reps = 1000, type = \"bootstrap\") |>\n",
    "                    calculate(stat = \"diff in means\", order = c(\"1\",\"2\"))\n",
    "\n",
    "head(null_model_wage)"
   ]
  },
  {
   "cell_type": "code",
   "execution_count": 38,
   "id": "34945128-9d42-47ac-9606-d9eb5be0371e",
   "metadata": {},
   "outputs": [
    {
     "data": {
      "text/html": [
       "<table class=\"dataframe\">\n",
       "<caption>A tibble: 1 × 1</caption>\n",
       "<thead>\n",
       "\t<tr><th scope=col>p_value</th></tr>\n",
       "\t<tr><th scope=col>&lt;dbl&gt;</th></tr>\n",
       "</thead>\n",
       "<tbody>\n",
       "\t<tr><td>0.511</td></tr>\n",
       "</tbody>\n",
       "</table>\n"
      ],
      "text/latex": [
       "A tibble: 1 × 1\n",
       "\\begin{tabular}{l}\n",
       " p\\_value\\\\\n",
       " <dbl>\\\\\n",
       "\\hline\n",
       "\t 0.511\\\\\n",
       "\\end{tabular}\n"
      ],
      "text/markdown": [
       "\n",
       "A tibble: 1 × 1\n",
       "\n",
       "| p_value &lt;dbl&gt; |\n",
       "|---|\n",
       "| 0.511 |\n",
       "\n"
      ],
      "text/plain": [
       "  p_value\n",
       "1 0.511  "
      ]
     },
     "metadata": {},
     "output_type": "display_data"
    },
    {
     "data": {
      "image/png": "[encoded data removed]",
      "text/plain": [
       "plot without title"
      ]
     },
     "metadata": {
      "image/png": {
       "height": 420,
       "width": 420
      }
     },
     "output_type": "display_data"
    }
   ],
   "source": [
    "wage_results_plot <- null_model_wage |>\n",
    "                    visualize() +\n",
    "                    shade_p_value(obs_stat = (x$mean-y$mean), direction = \"less\")\n",
    "wage_results_plot\n",
    "wage_p_value <- null_model_wage |>\n",
    "                get_p_value(obs_stat = (x$mean-y$mean), direction = \"less\")\n",
    "wage_p_value"
   ]
  },
  {
   "cell_type": "raw",
   "id": "d85cd11a-72e6-4cba-a0a1-be3b66b12991",
   "metadata": {},
   "source": []
  }
 ],
 "metadata": {
  "kernelspec": {
   "display_name": "R",
   "language": "R",
   "name": "ir"
  },
  "language_info": {
   "codemirror_mode": "r",
   "file_extension": ".r",
   "mimetype": "text/x-r-source",
   "name": "R",
   "pygments_lexer": "r",
   "version": "4.1.1"
  }
 },
 "nbformat": 4,
 "nbformat_minor": 5
}
