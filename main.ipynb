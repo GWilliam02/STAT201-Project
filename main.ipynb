{
 "cells": [
  {
   "cell_type": "code",
   "execution_count": 1,
   "id": "3dca47cb-6140-41bb-8e72-52d4c30effb7",
   "metadata": {},
   "outputs": [
    {
     "name": "stderr",
     "output_type": "stream",
     "text": [
      "-- \u001b[1mAttaching packages\u001b[22m ------------------------------------------------------------------------------- tidyverse 1.3.1 --\n",
      "\n",
      "\u001b[32mv\u001b[39m \u001b[34mggplot2\u001b[39m 3.3.6      \u001b[32mv\u001b[39m \u001b[34mpurrr  \u001b[39m 0.3.4 \n",
      "\u001b[32mv\u001b[39m \u001b[34mtibble \u001b[39m 3.1.8      \u001b[32mv\u001b[39m \u001b[34mdplyr  \u001b[39m 1.0.10\n",
      "\u001b[32mv\u001b[39m \u001b[34mtidyr  \u001b[39m 1.2.0      \u001b[32mv\u001b[39m \u001b[34mstringr\u001b[39m 1.4.1 \n",
      "\u001b[32mv\u001b[39m \u001b[34mreadr  \u001b[39m 2.1.2      \u001b[32mv\u001b[39m \u001b[34mforcats\u001b[39m 0.5.2 \n",
      "\n",
      "Warning message:\n",
      "\"package 'ggplot2' was built under R version 4.1.3\"\n",
      "Warning message:\n",
      "\"package 'tibble' was built under R version 4.1.3\"\n",
      "Warning message:\n",
      "\"package 'tidyr' was built under R version 4.1.2\"\n",
      "Warning message:\n",
      "\"package 'readr' was built under R version 4.1.2\"\n",
      "Warning message:\n",
      "\"package 'dplyr' was built under R version 4.1.3\"\n",
      "Warning message:\n",
      "\"package 'stringr' was built under R version 4.1.3\"\n",
      "Warning message:\n",
      "\"package 'forcats' was built under R version 4.1.3\"\n",
      "-- \u001b[1mConflicts\u001b[22m ---------------------------------------------------------------------------------- tidyverse_conflicts() --\n",
      "\u001b[31mx\u001b[39m \u001b[34mdplyr\u001b[39m::\u001b[32mfilter()\u001b[39m masks \u001b[34mstats\u001b[39m::filter()\n",
      "\u001b[31mx\u001b[39m \u001b[34mdplyr\u001b[39m::\u001b[32mlag()\u001b[39m    masks \u001b[34mstats\u001b[39m::lag()\n",
      "\n",
      "Warning message:\n",
      "\"package 'broom' was built under R version 4.1.3\"\n",
      "Warning message:\n",
      "\"package 'repr' was built under R version 4.1.2\"\n",
      "Warning message:\n",
      "\"package 'infer' was built under R version 4.1.3\"\n"
     ]
    }
   ],
   "source": [
    "library(tidyverse)\n",
    "library(broom)\n",
    "library(repr)\n",
    "library(digest)\n",
    "library(infer)"
   ]
  },
  {
   "cell_type": "code",
   "execution_count": 2,
   "id": "4a8295b4-7a36-4cee-a59f-a56f122799ef",
   "metadata": {},
   "outputs": [],
   "source": [
    "options(repr.plot.width=15, repr.plot.height=7)"
   ]
  },
  {
   "cell_type": "code",
   "execution_count": 8,
   "id": "c02f11da-5575-4bb8-98e6-f3ad7353ad56",
   "metadata": {},
   "outputs": [
    {
     "name": "stderr",
     "output_type": "stream",
     "text": [
      "\u001b[1mRows: \u001b[22m\u001b[34m108064\u001b[39m \u001b[1mColumns: \u001b[22m\u001b[34m60\u001b[39m\n",
      "\u001b[36m--\u001b[39m \u001b[1mColumn specification\u001b[22m \u001b[36m------------------------------------------------------------------------------------------------\u001b[39m\n",
      "\u001b[1mDelimiter:\u001b[22m \",\"\n",
      "\u001b[31mchr\u001b[39m  (7): SURVMNTH, AGE_12, NAICS_21, NOC_10, NOC_43, WHYLEFTN, EFAMTYPE\n",
      "\u001b[32mdbl\u001b[39m (53): REC_NUM, SURVYEAR, LFSSTAT, PROV, CMA, AGE_6, SEX, MARSTAT, EDUC, ...\n",
      "\n",
      "\u001b[36mi\u001b[39m Use `spec()` to retrieve the full column specification for this data.\n",
      "\u001b[36mi\u001b[39m Specify the column types or set `show_col_types = FALSE` to quiet this message.\n"
     ]
    },
    {
     "data": {
      "text/html": [
       "<table class=\"dataframe\">\n",
       "<caption>A tibble: 6 × 60</caption>\n",
       "<thead>\n",
       "\t<tr><th scope=col>REC_NUM</th><th scope=col>SURVYEAR</th><th scope=col>SURVMNTH</th><th scope=col>LFSSTAT</th><th scope=col>PROV</th><th scope=col>CMA</th><th scope=col>AGE_12</th><th scope=col>AGE_6</th><th scope=col>SEX</th><th scope=col>MARSTAT</th><th scope=col>⋯</th><th scope=col>LKATADS</th><th scope=col>LKANSADS</th><th scope=col>LKOTHERN</th><th scope=col>PRIORACT</th><th scope=col>YNOLOOK</th><th scope=col>TLOLOOK</th><th scope=col>SCHOOLN</th><th scope=col>EFAMTYPE</th><th scope=col>AGYOWNK</th><th scope=col>FINALWT</th></tr>\n",
       "\t<tr><th scope=col>&lt;dbl&gt;</th><th scope=col>&lt;dbl&gt;</th><th scope=col>&lt;chr&gt;</th><th scope=col>&lt;dbl&gt;</th><th scope=col>&lt;dbl&gt;</th><th scope=col>&lt;dbl&gt;</th><th scope=col>&lt;chr&gt;</th><th scope=col>&lt;dbl&gt;</th><th scope=col>&lt;dbl&gt;</th><th scope=col>&lt;dbl&gt;</th><th scope=col>⋯</th><th scope=col>&lt;dbl&gt;</th><th scope=col>&lt;dbl&gt;</th><th scope=col>&lt;dbl&gt;</th><th scope=col>&lt;dbl&gt;</th><th scope=col>&lt;dbl&gt;</th><th scope=col>&lt;dbl&gt;</th><th scope=col>&lt;dbl&gt;</th><th scope=col>&lt;chr&gt;</th><th scope=col>&lt;dbl&gt;</th><th scope=col>&lt;dbl&gt;</th></tr>\n",
       "</thead>\n",
       "<tbody>\n",
       "\t<tr><td>1</td><td>2023</td><td>01</td><td>1</td><td>24</td><td>2</td><td>07</td><td>NA</td><td>2</td><td>6</td><td>⋯</td><td>NA</td><td>NA</td><td>NA</td><td>NA</td><td>NA</td><td>NA</td><td> 1</td><td>01</td><td>NA</td><td>1312</td></tr>\n",
       "\t<tr><td>2</td><td>2023</td><td>01</td><td>1</td><td>47</td><td>0</td><td>04</td><td>NA</td><td>2</td><td>6</td><td>⋯</td><td>NA</td><td>NA</td><td>NA</td><td>NA</td><td>NA</td><td>NA</td><td> 1</td><td>01</td><td>NA</td><td>  91</td></tr>\n",
       "\t<tr><td>3</td><td>2023</td><td>01</td><td>1</td><td>10</td><td>0</td><td>10</td><td>NA</td><td>1</td><td>1</td><td>⋯</td><td>NA</td><td>NA</td><td>NA</td><td>NA</td><td>NA</td><td>NA</td><td> 1</td><td>05</td><td>NA</td><td> 136</td></tr>\n",
       "\t<tr><td>4</td><td>2023</td><td>01</td><td>4</td><td>35</td><td>0</td><td>12</td><td>NA</td><td>2</td><td>1</td><td>⋯</td><td>NA</td><td>NA</td><td>NA</td><td>NA</td><td>NA</td><td>NA</td><td>NA</td><td>11</td><td>NA</td><td> 107</td></tr>\n",
       "\t<tr><td>5</td><td>2023</td><td>01</td><td>1</td><td>35</td><td>0</td><td>05</td><td>NA</td><td>1</td><td>1</td><td>⋯</td><td>NA</td><td>NA</td><td>NA</td><td>NA</td><td>NA</td><td>NA</td><td> 1</td><td>18</td><td>NA</td><td> 242</td></tr>\n",
       "\t<tr><td>6</td><td>2023</td><td>01</td><td>1</td><td>35</td><td>0</td><td>12</td><td>NA</td><td>1</td><td>2</td><td>⋯</td><td>NA</td><td>NA</td><td>NA</td><td>NA</td><td>NA</td><td>NA</td><td>NA</td><td>02</td><td>NA</td><td> 178</td></tr>\n",
       "</tbody>\n",
       "</table>\n"
      ],
      "text/latex": [
       "A tibble: 6 × 60\n",
       "\\begin{tabular}{lllllllllllllllllllll}\n",
       " REC\\_NUM & SURVYEAR & SURVMNTH & LFSSTAT & PROV & CMA & AGE\\_12 & AGE\\_6 & SEX & MARSTAT & ⋯ & LKATADS & LKANSADS & LKOTHERN & PRIORACT & YNOLOOK & TLOLOOK & SCHOOLN & EFAMTYPE & AGYOWNK & FINALWT\\\\\n",
       " <dbl> & <dbl> & <chr> & <dbl> & <dbl> & <dbl> & <chr> & <dbl> & <dbl> & <dbl> & ⋯ & <dbl> & <dbl> & <dbl> & <dbl> & <dbl> & <dbl> & <dbl> & <chr> & <dbl> & <dbl>\\\\\n",
       "\\hline\n",
       "\t 1 & 2023 & 01 & 1 & 24 & 2 & 07 & NA & 2 & 6 & ⋯ & NA & NA & NA & NA & NA & NA &  1 & 01 & NA & 1312\\\\\n",
       "\t 2 & 2023 & 01 & 1 & 47 & 0 & 04 & NA & 2 & 6 & ⋯ & NA & NA & NA & NA & NA & NA &  1 & 01 & NA &   91\\\\\n",
       "\t 3 & 2023 & 01 & 1 & 10 & 0 & 10 & NA & 1 & 1 & ⋯ & NA & NA & NA & NA & NA & NA &  1 & 05 & NA &  136\\\\\n",
       "\t 4 & 2023 & 01 & 4 & 35 & 0 & 12 & NA & 2 & 1 & ⋯ & NA & NA & NA & NA & NA & NA & NA & 11 & NA &  107\\\\\n",
       "\t 5 & 2023 & 01 & 1 & 35 & 0 & 05 & NA & 1 & 1 & ⋯ & NA & NA & NA & NA & NA & NA &  1 & 18 & NA &  242\\\\\n",
       "\t 6 & 2023 & 01 & 1 & 35 & 0 & 12 & NA & 1 & 2 & ⋯ & NA & NA & NA & NA & NA & NA & NA & 02 & NA &  178\\\\\n",
       "\\end{tabular}\n"
      ],
      "text/markdown": [
       "\n",
       "A tibble: 6 × 60\n",
       "\n",
       "| REC_NUM &lt;dbl&gt; | SURVYEAR &lt;dbl&gt; | SURVMNTH &lt;chr&gt; | LFSSTAT &lt;dbl&gt; | PROV &lt;dbl&gt; | CMA &lt;dbl&gt; | AGE_12 &lt;chr&gt; | AGE_6 &lt;dbl&gt; | SEX &lt;dbl&gt; | MARSTAT &lt;dbl&gt; | ⋯ ⋯ | LKATADS &lt;dbl&gt; | LKANSADS &lt;dbl&gt; | LKOTHERN &lt;dbl&gt; | PRIORACT &lt;dbl&gt; | YNOLOOK &lt;dbl&gt; | TLOLOOK &lt;dbl&gt; | SCHOOLN &lt;dbl&gt; | EFAMTYPE &lt;chr&gt; | AGYOWNK &lt;dbl&gt; | FINALWT &lt;dbl&gt; |\n",
       "|---|---|---|---|---|---|---|---|---|---|---|---|---|---|---|---|---|---|---|---|---|\n",
       "| 1 | 2023 | 01 | 1 | 24 | 2 | 07 | NA | 2 | 6 | ⋯ | NA | NA | NA | NA | NA | NA |  1 | 01 | NA | 1312 |\n",
       "| 2 | 2023 | 01 | 1 | 47 | 0 | 04 | NA | 2 | 6 | ⋯ | NA | NA | NA | NA | NA | NA |  1 | 01 | NA |   91 |\n",
       "| 3 | 2023 | 01 | 1 | 10 | 0 | 10 | NA | 1 | 1 | ⋯ | NA | NA | NA | NA | NA | NA |  1 | 05 | NA |  136 |\n",
       "| 4 | 2023 | 01 | 4 | 35 | 0 | 12 | NA | 2 | 1 | ⋯ | NA | NA | NA | NA | NA | NA | NA | 11 | NA |  107 |\n",
       "| 5 | 2023 | 01 | 1 | 35 | 0 | 05 | NA | 1 | 1 | ⋯ | NA | NA | NA | NA | NA | NA |  1 | 18 | NA |  242 |\n",
       "| 6 | 2023 | 01 | 1 | 35 | 0 | 12 | NA | 1 | 2 | ⋯ | NA | NA | NA | NA | NA | NA | NA | 02 | NA |  178 |\n",
       "\n"
      ],
      "text/plain": [
       "  REC_NUM SURVYEAR SURVMNTH LFSSTAT PROV CMA AGE_12 AGE_6 SEX MARSTAT <U+22EF>       \n",
       "1 1       2023     01       1       24   2   07     NA    2   6       <U+22EF>\n",
       "2 2       2023     01       1       47   0   04     NA    2   6       <U+22EF>\n",
       "3 3       2023     01       1       10   0   10     NA    1   1       <U+22EF>\n",
       "4 4       2023     01       4       35   0   12     NA    2   1       <U+22EF>\n",
       "5 5       2023     01       1       35   0   05     NA    1   1       <U+22EF>\n",
       "6 6       2023     01       1       35   0   12     NA    1   2       <U+22EF>\n",
       "  LKATADS LKANSADS LKOTHERN PRIORACT YNOLOOK TLOLOOK SCHOOLN EFAMTYPE AGYOWNK\n",
       "1 NA      NA       NA       NA       NA      NA       1      01       NA     \n",
       "2 NA      NA       NA       NA       NA      NA       1      01       NA     \n",
       "3 NA      NA       NA       NA       NA      NA       1      05       NA     \n",
       "4 NA      NA       NA       NA       NA      NA      NA      11       NA     \n",
       "5 NA      NA       NA       NA       NA      NA       1      18       NA     \n",
       "6 NA      NA       NA       NA       NA      NA      NA      02       NA     \n",
       "  FINALWT\n",
       "1 1312   \n",
       "2   91   \n",
       "3  136   \n",
       "4  107   \n",
       "5  242   \n",
       "6  178   "
      ]
     },
     "metadata": {},
     "output_type": "display_data"
    }
   ],
   "source": [
    "employment <- read_csv(\"https://raw.githubusercontent.com/GWilliam02/STAT201-Project/main/data/employmentData.csv\")\n",
    "head(employment)"
   ]
  },
  {
   "cell_type": "code",
   "execution_count": 18,
   "id": "cc698d18-893c-4b91-a993-7223493510a2",
   "metadata": {},
   "outputs": [
    {
     "data": {
      "text/html": [
       "108064"
      ],
      "text/latex": [
       "108064"
      ],
      "text/markdown": [
       "108064"
      ],
      "text/plain": [
       "[1] 108064"
      ]
     },
     "metadata": {},
     "output_type": "display_data"
    }
   ],
   "source": [
    "nrow(employment)"
   ]
  },
  {
   "cell_type": "code",
   "execution_count": 24,
   "id": "956a67e7-626b-41dc-8462-0bab9f8aa9e0",
   "metadata": {},
   "outputs": [
    {
     "data": {
      "text/html": [
       "<table class=\"dataframe\">\n",
       "<caption>A tibble: 6 × 3</caption>\n",
       "<thead>\n",
       "\t<tr><th scope=col>NOC_10</th><th scope=col>IMMIG</th><th scope=col>HRLYEARN</th></tr>\n",
       "\t<tr><th scope=col>&lt;chr&gt;</th><th scope=col>&lt;dbl&gt;</th><th scope=col>&lt;dbl&gt;</th></tr>\n",
       "</thead>\n",
       "<tbody>\n",
       "\t<tr><td>03</td><td>2</td><td>9707</td></tr>\n",
       "\t<tr><td>03</td><td>3</td><td>4567</td></tr>\n",
       "\t<tr><td>03</td><td>3</td><td>3897</td></tr>\n",
       "\t<tr><td>03</td><td>1</td><td>2497</td></tr>\n",
       "\t<tr><td>03</td><td>3</td><td>4872</td></tr>\n",
       "\t<tr><td>03</td><td>3</td><td>2885</td></tr>\n",
       "</tbody>\n",
       "</table>\n"
      ],
      "text/latex": [
       "A tibble: 6 × 3\n",
       "\\begin{tabular}{lll}\n",
       " NOC\\_10 & IMMIG & HRLYEARN\\\\\n",
       " <chr> & <dbl> & <dbl>\\\\\n",
       "\\hline\n",
       "\t 03 & 2 & 9707\\\\\n",
       "\t 03 & 3 & 4567\\\\\n",
       "\t 03 & 3 & 3897\\\\\n",
       "\t 03 & 1 & 2497\\\\\n",
       "\t 03 & 3 & 4872\\\\\n",
       "\t 03 & 3 & 2885\\\\\n",
       "\\end{tabular}\n"
      ],
      "text/markdown": [
       "\n",
       "A tibble: 6 × 3\n",
       "\n",
       "| NOC_10 &lt;chr&gt; | IMMIG &lt;dbl&gt; | HRLYEARN &lt;dbl&gt; |\n",
       "|---|---|---|\n",
       "| 03 | 2 | 9707 |\n",
       "| 03 | 3 | 4567 |\n",
       "| 03 | 3 | 3897 |\n",
       "| 03 | 1 | 2497 |\n",
       "| 03 | 3 | 4872 |\n",
       "| 03 | 3 | 2885 |\n",
       "\n"
      ],
      "text/plain": [
       "  NOC_10 IMMIG HRLYEARN\n",
       "1 03     2     9707    \n",
       "2 03     3     4567    \n",
       "3 03     3     3897    \n",
       "4 03     1     2497    \n",
       "5 03     3     4872    \n",
       "6 03     3     2885    "
      ]
     },
     "metadata": {},
     "output_type": "display_data"
    },
    {
     "data": {
      "text/html": [
       "4334"
      ],
      "text/latex": [
       "4334"
      ],
      "text/markdown": [
       "4334"
      ],
      "text/plain": [
       "[1] 4334"
      ]
     },
     "metadata": {},
     "output_type": "display_data"
    }
   ],
   "source": [
    "employment_clean <- employment |>\n",
    "                    select(NOC_10 ,IMMIG ,HRLYEARN) |>\n",
    "                    filter(!is.na(HRLYEARN)) |>\n",
    "                    filter(NOC_10 == \"03\")    #Filters out everyone with STEM Occupations\n",
    "\n",
    "                    \n",
    "                \n",
    "\n",
    "head(employment_clean)\n",
    "nrow(employment_clean)"
   ]
  },
  {
   "cell_type": "code",
   "execution_count": null,
   "id": "1fac72cc-9d18-45b1-98a3-bc5de753fb86",
   "metadata": {},
   "outputs": [],
   "source": []
  }
 ],
 "metadata": {
  "kernelspec": {
   "display_name": "R",
   "language": "R",
   "name": "ir"
  },
  "language_info": {
   "codemirror_mode": "r",
   "file_extension": ".r",
   "mimetype": "text/x-r-source",
   "name": "R",
   "pygments_lexer": "r",
   "version": "4.1.1"
  }
 },
 "nbformat": 4,
 "nbformat_minor": 5
}
