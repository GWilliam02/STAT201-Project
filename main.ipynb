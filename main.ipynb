{
 "cells": [
  {
   "cell_type": "code",
   "execution_count": 1,
   "id": "3dca47cb-6140-41bb-8e72-52d4c30effb7",
   "metadata": {},
   "outputs": [
    {
     "name": "stderr",
     "output_type": "stream",
     "text": [
      "-- \u001b[1mAttaching packages\u001b[22m ------------------------------------------------------------------------------- tidyverse 1.3.1 --\n",
      "\n",
      "\u001b[32mv\u001b[39m \u001b[34mggplot2\u001b[39m 3.3.6      \u001b[32mv\u001b[39m \u001b[34mpurrr  \u001b[39m 0.3.4 \n",
      "\u001b[32mv\u001b[39m \u001b[34mtibble \u001b[39m 3.1.8      \u001b[32mv\u001b[39m \u001b[34mdplyr  \u001b[39m 1.0.10\n",
      "\u001b[32mv\u001b[39m \u001b[34mtidyr  \u001b[39m 1.2.0      \u001b[32mv\u001b[39m \u001b[34mstringr\u001b[39m 1.4.1 \n",
      "\u001b[32mv\u001b[39m \u001b[34mreadr  \u001b[39m 2.1.2      \u001b[32mv\u001b[39m \u001b[34mforcats\u001b[39m 0.5.2 \n",
      "\n",
      "Warning message:\n",
      "\"package 'ggplot2' was built under R version 4.1.3\"\n",
      "Warning message:\n",
      "\"package 'tibble' was built under R version 4.1.3\"\n",
      "Warning message:\n",
      "\"package 'tidyr' was built under R version 4.1.2\"\n",
      "Warning message:\n",
      "\"package 'readr' was built under R version 4.1.2\"\n",
      "Warning message:\n",
      "\"package 'dplyr' was built under R version 4.1.3\"\n",
      "Warning message:\n",
      "\"package 'stringr' was built under R version 4.1.3\"\n",
      "Warning message:\n",
      "\"package 'forcats' was built under R version 4.1.3\"\n",
      "-- \u001b[1mConflicts\u001b[22m ---------------------------------------------------------------------------------- tidyverse_conflicts() --\n",
      "\u001b[31mx\u001b[39m \u001b[34mdplyr\u001b[39m::\u001b[32mfilter()\u001b[39m masks \u001b[34mstats\u001b[39m::filter()\n",
      "\u001b[31mx\u001b[39m \u001b[34mdplyr\u001b[39m::\u001b[32mlag()\u001b[39m    masks \u001b[34mstats\u001b[39m::lag()\n",
      "\n",
      "Warning message:\n",
      "\"package 'broom' was built under R version 4.1.3\"\n",
      "Warning message:\n",
      "\"package 'repr' was built under R version 4.1.2\"\n",
      "Warning message:\n",
      "\"package 'infer' was built under R version 4.1.3\"\n"
     ]
    }
   ],
   "source": [
    "library(tidyverse)\n",
    "library(broom)\n",
    "library(repr)\n",
    "library(digest)\n",
    "library(infer)"
   ]
  },
  {
   "cell_type": "code",
   "execution_count": 2,
   "id": "4a8295b4-7a36-4cee-a59f-a56f122799ef",
   "metadata": {},
   "outputs": [],
   "source": [
    "options(repr.plot.width=15, repr.plot.height=7)"
   ]
  },
  {
   "cell_type": "code",
   "execution_count": 5,
   "id": "c02f11da-5575-4bb8-98e6-f3ad7353ad56",
   "metadata": {},
   "outputs": [
    {
     "name": "stderr",
     "output_type": "stream",
     "text": [
      "\u001b[1mRows: \u001b[22m\u001b[34m397\u001b[39m \u001b[1mColumns: \u001b[22m\u001b[34m10\u001b[39m\n",
      "\u001b[36m--\u001b[39m \u001b[1mColumn specification\u001b[22m \u001b[36m------------------------------------------------------------------------------------------------\u001b[39m\n",
      "\u001b[1mDelimiter:\u001b[22m \",\"\n",
      "\u001b[31mchr\u001b[39m (7): Variable_Variable, EnglishLabel_EtiquetteAnglais, FrenchLabel_Etiqu...\n",
      "\u001b[32mdbl\u001b[39m (3): Field_Champ, Position_Position, Length_Longueur\n",
      "\n",
      "\u001b[36mi\u001b[39m Use `spec()` to retrieve the full column specification for this data.\n",
      "\u001b[36mi\u001b[39m Specify the column types or set `show_col_types = FALSE` to quiet this message.\n"
     ]
    },
    {
     "data": {
      "text/html": [
       "<table class=\"dataframe\">\n",
       "<caption>A tibble: 6 × 10</caption>\n",
       "<thead>\n",
       "\t<tr><th scope=col>Field_Champ</th><th scope=col>Position_Position</th><th scope=col>Length_Longueur</th><th scope=col>Variable_Variable</th><th scope=col>EnglishLabel_EtiquetteAnglais</th><th scope=col>FrenchLabel_EtiquetteFrancais</th><th scope=col>EnglishUniverse_UniversAnglais</th><th scope=col>FrenchUniverse_UniversFrancais</th><th scope=col>EnglishNote_NoteAnglais</th><th scope=col>FrenchNote_NoteFrancais</th></tr>\n",
       "\t<tr><th scope=col>&lt;dbl&gt;</th><th scope=col>&lt;dbl&gt;</th><th scope=col>&lt;dbl&gt;</th><th scope=col>&lt;chr&gt;</th><th scope=col>&lt;chr&gt;</th><th scope=col>&lt;chr&gt;</th><th scope=col>&lt;chr&gt;</th><th scope=col>&lt;chr&gt;</th><th scope=col>&lt;chr&gt;</th><th scope=col>&lt;chr&gt;</th></tr>\n",
       "</thead>\n",
       "<tbody>\n",
       "\t<tr><td> 1</td><td> 1</td><td> 7</td><td><span style=white-space:pre-wrap>rec_num  </span></td><td>Order of record in file</td><td>Ordre de l'observation dans le fichier</td><td>All respondents</td><td>Tous les r&lt;e9&gt;pondantes</td><td>NA</td><td>NA</td></tr>\n",
       "\t<tr><td>NA</td><td>NA</td><td>NA</td><td>1-9999999</td><td>NA                     </td><td>NA                                    </td><td>NA             </td><td>NA                     </td><td>NA</td><td>NA</td></tr>\n",
       "\t<tr><td> 2</td><td> 8</td><td> 4</td><td>survyear </td><td><span style=white-space:pre-wrap>Survey year            </span></td><td><span style=white-space:pre-wrap>Ann&lt;e9&gt;e d'enqu&lt;ea&gt;te                 </span></td><td>All respondents</td><td>Tous les r&lt;e9&gt;pondantes</td><td>NA</td><td>NA</td></tr>\n",
       "\t<tr><td>NA</td><td>NA</td><td>NA</td><td>1976-    </td><td>NA                     </td><td>NA                                    </td><td>NA             </td><td>NA                     </td><td>NA</td><td>NA</td></tr>\n",
       "\t<tr><td> 3</td><td>12</td><td> 2</td><td>survmnth </td><td><span style=white-space:pre-wrap>Survey month           </span></td><td><span style=white-space:pre-wrap>Mois d'enqu&lt;ea&gt;te                     </span></td><td>All respondents</td><td>Tous les r&lt;e9&gt;pondantes</td><td>NA</td><td>NA</td></tr>\n",
       "\t<tr><td>NA</td><td>NA</td><td>NA</td><td>01       </td><td>January                </td><td>Janvier                               </td><td>NA             </td><td>NA                     </td><td>NA</td><td>NA</td></tr>\n",
       "</tbody>\n",
       "</table>\n"
      ],
      "text/latex": [
       "A tibble: 6 × 10\n",
       "\\begin{tabular}{llllllllll}\n",
       " Field\\_Champ & Position\\_Position & Length\\_Longueur & Variable\\_Variable & EnglishLabel\\_EtiquetteAnglais & FrenchLabel\\_EtiquetteFrancais & EnglishUniverse\\_UniversAnglais & FrenchUniverse\\_UniversFrancais & EnglishNote\\_NoteAnglais & FrenchNote\\_NoteFrancais\\\\\n",
       " <dbl> & <dbl> & <dbl> & <chr> & <chr> & <chr> & <chr> & <chr> & <chr> & <chr>\\\\\n",
       "\\hline\n",
       "\t  1 &  1 &  7 & rec\\_num   & Order of record in file & Ordre de l'observation dans le fichier & All respondents & Tous les r<e9>pondantes & NA & NA\\\\\n",
       "\t NA & NA & NA & 1-9999999 & NA                      & NA                                     & NA              & NA                      & NA & NA\\\\\n",
       "\t  2 &  8 &  4 & survyear  & Survey year             & Ann<e9>e d'enqu<ea>te                  & All respondents & Tous les r<e9>pondantes & NA & NA\\\\\n",
       "\t NA & NA & NA & 1976-     & NA                      & NA                                     & NA              & NA                      & NA & NA\\\\\n",
       "\t  3 & 12 &  2 & survmnth  & Survey month            & Mois d'enqu<ea>te                      & All respondents & Tous les r<e9>pondantes & NA & NA\\\\\n",
       "\t NA & NA & NA & 01        & January                 & Janvier                                & NA              & NA                      & NA & NA\\\\\n",
       "\\end{tabular}\n"
      ],
      "text/markdown": [
       "\n",
       "A tibble: 6 × 10\n",
       "\n",
       "| Field_Champ &lt;dbl&gt; | Position_Position &lt;dbl&gt; | Length_Longueur &lt;dbl&gt; | Variable_Variable &lt;chr&gt; | EnglishLabel_EtiquetteAnglais &lt;chr&gt; | FrenchLabel_EtiquetteFrancais &lt;chr&gt; | EnglishUniverse_UniversAnglais &lt;chr&gt; | FrenchUniverse_UniversFrancais &lt;chr&gt; | EnglishNote_NoteAnglais &lt;chr&gt; | FrenchNote_NoteFrancais &lt;chr&gt; |\n",
       "|---|---|---|---|---|---|---|---|---|---|\n",
       "|  1 |  1 |  7 | rec_num   | Order of record in file | Ordre de l'observation dans le fichier | All respondents | Tous les r&lt;e9&gt;pondantes | NA | NA |\n",
       "| NA | NA | NA | 1-9999999 | NA                      | NA                                     | NA              | NA                      | NA | NA |\n",
       "|  2 |  8 |  4 | survyear  | Survey year             | Ann&lt;e9&gt;e d'enqu&lt;ea&gt;te                  | All respondents | Tous les r&lt;e9&gt;pondantes | NA | NA |\n",
       "| NA | NA | NA | 1976-     | NA                      | NA                                     | NA              | NA                      | NA | NA |\n",
       "|  3 | 12 |  2 | survmnth  | Survey month            | Mois d'enqu&lt;ea&gt;te                      | All respondents | Tous les r&lt;e9&gt;pondantes | NA | NA |\n",
       "| NA | NA | NA | 01        | January                 | Janvier                                | NA              | NA                      | NA | NA |\n",
       "\n"
      ],
      "text/plain": [
       "  Field_Champ Position_Position Length_Longueur Variable_Variable\n",
       "1  1           1                 7              rec_num          \n",
       "2 NA          NA                NA              1-9999999        \n",
       "3  2           8                 4              survyear         \n",
       "4 NA          NA                NA              1976-            \n",
       "5  3          12                 2              survmnth         \n",
       "6 NA          NA                NA              01               \n",
       "  EnglishLabel_EtiquetteAnglais FrenchLabel_EtiquetteFrancais         \n",
       "1 Order of record in file       Ordre de l'observation dans le fichier\n",
       "2 NA                            NA                                    \n",
       "3 Survey year                   Ann<e9>e d'enqu<ea>te                 \n",
       "4 NA                            NA                                    \n",
       "5 Survey month                  Mois d'enqu<ea>te                     \n",
       "6 January                       Janvier                               \n",
       "  EnglishUniverse_UniversAnglais FrenchUniverse_UniversFrancais\n",
       "1 All respondents                Tous les r<e9>pondantes       \n",
       "2 NA                             NA                            \n",
       "3 All respondents                Tous les r<e9>pondantes       \n",
       "4 NA                             NA                            \n",
       "5 All respondents                Tous les r<e9>pondantes       \n",
       "6 NA                             NA                            \n",
       "  EnglishNote_NoteAnglais FrenchNote_NoteFrancais\n",
       "1 NA                      NA                     \n",
       "2 NA                      NA                     \n",
       "3 NA                      NA                     \n",
       "4 NA                      NA                     \n",
       "5 NA                      NA                     \n",
       "6 NA                      NA                     "
      ]
     },
     "metadata": {},
     "output_type": "display_data"
    }
   ],
   "source": [
    "employment <- read_csv(\"https://raw.githubusercontent.com/GWilliam02/STAT201-Project/main/data/codebook.csv\")\n",
    "head(employment)"
   ]
  },
  {
   "cell_type": "code",
   "execution_count": null,
   "id": "956a67e7-626b-41dc-8462-0bab9f8aa9e0",
   "metadata": {},
   "outputs": [],
   "source": []
  }
 ],
 "metadata": {
  "kernelspec": {
   "display_name": "R",
   "language": "R",
   "name": "ir"
  },
  "language_info": {
   "codemirror_mode": "r",
   "file_extension": ".r",
   "mimetype": "text/x-r-source",
   "name": "R",
   "pygments_lexer": "r",
   "version": "4.1.1"
  }
 },
 "nbformat": 4,
 "nbformat_minor": 5
}
