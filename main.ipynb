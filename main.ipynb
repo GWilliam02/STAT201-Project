{
 "cells": [
  {
   "cell_type": "markdown",
   "id": "46e59607-f04f-47ff-92af-049eed93b2c7",
   "metadata": {
    "tags": []
   },
   "source": [
    "## Insert Title Here ##"
   ]
  },
  {
   "cell_type": "markdown",
   "id": "ca5d6605-76b3-460f-99c2-2850ef772b96",
   "metadata": {},
   "source": [
    "## Introduction ##"
   ]
  },
  {
   "cell_type": "markdown",
   "id": "48017747-aacd-4bc7-b024-62b8556a6f03",
   "metadata": {},
   "source": [
    "Insert Introduction Here"
   ]
  },
  {
   "cell_type": "markdown",
   "id": "03b9deea-29aa-4447-b132-ef8000319414",
   "metadata": {},
   "source": [
    "## Preliminary Exploratory Data Analysis ##"
   ]
  },
  {
   "cell_type": "code",
   "execution_count": 1,
   "id": "3dca47cb-6140-41bb-8e72-52d4c30effb7",
   "metadata": {},
   "outputs": [
    {
     "name": "stderr",
     "output_type": "stream",
     "text": [
      "-- \u001b[1mAttaching packages\u001b[22m ------------------------------------------------------------------------------- tidyverse 1.3.1 --\n",
      "\n",
      "\u001b[32mv\u001b[39m \u001b[34mggplot2\u001b[39m 3.3.6      \u001b[32mv\u001b[39m \u001b[34mpurrr  \u001b[39m 0.3.4 \n",
      "\u001b[32mv\u001b[39m \u001b[34mtibble \u001b[39m 3.1.8      \u001b[32mv\u001b[39m \u001b[34mdplyr  \u001b[39m 1.0.10\n",
      "\u001b[32mv\u001b[39m \u001b[34mtidyr  \u001b[39m 1.2.0      \u001b[32mv\u001b[39m \u001b[34mstringr\u001b[39m 1.4.1 \n",
      "\u001b[32mv\u001b[39m \u001b[34mreadr  \u001b[39m 2.1.2      \u001b[32mv\u001b[39m \u001b[34mforcats\u001b[39m 0.5.2 \n",
      "\n",
      "Warning message:\n",
      "\"package 'ggplot2' was built under R version 4.1.3\"\n",
      "Warning message:\n",
      "\"package 'tibble' was built under R version 4.1.3\"\n",
      "Warning message:\n",
      "\"package 'tidyr' was built under R version 4.1.2\"\n",
      "Warning message:\n",
      "\"package 'readr' was built under R version 4.1.2\"\n",
      "Warning message:\n",
      "\"package 'dplyr' was built under R version 4.1.3\"\n",
      "Warning message:\n",
      "\"package 'stringr' was built under R version 4.1.3\"\n",
      "Warning message:\n",
      "\"package 'forcats' was built under R version 4.1.3\"\n",
      "-- \u001b[1mConflicts\u001b[22m ---------------------------------------------------------------------------------- tidyverse_conflicts() --\n",
      "\u001b[31mx\u001b[39m \u001b[34mdplyr\u001b[39m::\u001b[32mfilter()\u001b[39m masks \u001b[34mstats\u001b[39m::filter()\n",
      "\u001b[31mx\u001b[39m \u001b[34mdplyr\u001b[39m::\u001b[32mlag()\u001b[39m    masks \u001b[34mstats\u001b[39m::lag()\n",
      "\n",
      "Warning message:\n",
      "\"package 'broom' was built under R version 4.1.3\"\n",
      "Warning message:\n",
      "\"package 'repr' was built under R version 4.1.2\"\n",
      "Warning message:\n",
      "\"package 'infer' was built under R version 4.1.3\"\n"
     ]
    }
   ],
   "source": [
    "library(tidyverse)\n",
    "library(broom)\n",
    "library(repr)\n",
    "library(digest)\n",
    "library(infer)"
   ]
  },
  {
   "cell_type": "code",
   "execution_count": 25,
   "id": "4a8295b4-7a36-4cee-a59f-a56f122799ef",
   "metadata": {},
   "outputs": [],
   "source": [
    "options(repr.plot.width=15, repr.plot.height=7) # Setting options"
   ]
  },
  {
   "cell_type": "markdown",
   "id": "57e56d24-a20e-4276-9e77-fa304525d13e",
   "metadata": {},
   "source": [
    "The following code imports the April 2023 Canadian Labour Force data into the notebook."
   ]
  },
  {
   "cell_type": "code",
   "execution_count": 26,
   "id": "c02f11da-5575-4bb8-98e6-f3ad7353ad56",
   "metadata": {},
   "outputs": [
    {
     "name": "stderr",
     "output_type": "stream",
     "text": [
      "\u001b[1mRows: \u001b[22m\u001b[34m108064\u001b[39m \u001b[1mColumns: \u001b[22m\u001b[34m60\u001b[39m\n",
      "\u001b[36m--\u001b[39m \u001b[1mColumn specification\u001b[22m \u001b[36m------------------------------------------------------------------------------------------------\u001b[39m\n",
      "\u001b[1mDelimiter:\u001b[22m \",\"\n",
      "\u001b[31mchr\u001b[39m  (7): SURVMNTH, AGE_12, NAICS_21, NOC_10, NOC_43, WHYLEFTN, EFAMTYPE\n",
      "\u001b[32mdbl\u001b[39m (53): REC_NUM, SURVYEAR, LFSSTAT, PROV, CMA, AGE_6, SEX, MARSTAT, EDUC, ...\n",
      "\n",
      "\u001b[36mi\u001b[39m Use `spec()` to retrieve the full column specification for this data.\n",
      "\u001b[36mi\u001b[39m Specify the column types or set `show_col_types = FALSE` to quiet this message.\n"
     ]
    }
   ],
   "source": [
    "employment <- read_csv(\"https://raw.githubusercontent.com/GWilliam02/STAT201-Project/main/data/employmentData.csv\")"
   ]
  },
  {
   "cell_type": "code",
   "execution_count": 34,
   "id": "956a67e7-626b-41dc-8462-0bab9f8aa9e0",
   "metadata": {},
   "outputs": [
    {
     "data": {
      "text/html": [
       "<table class=\"dataframe\">\n",
       "<caption>A tibble: 6 × 2</caption>\n",
       "<thead>\n",
       "\t<tr><th scope=col>immigration_status</th><th scope=col>hourly_wage</th></tr>\n",
       "\t<tr><th scope=col>&lt;chr&gt;</th><th scope=col>&lt;dbl&gt;</th></tr>\n",
       "</thead>\n",
       "<tbody>\n",
       "\t<tr><td>Resident    </td><td>9707</td></tr>\n",
       "\t<tr><td>Non-resident</td><td>4567</td></tr>\n",
       "\t<tr><td>Non-resident</td><td>3897</td></tr>\n",
       "\t<tr><td>Resident    </td><td>2497</td></tr>\n",
       "\t<tr><td>Non-resident</td><td>4872</td></tr>\n",
       "\t<tr><td>Non-resident</td><td>2885</td></tr>\n",
       "</tbody>\n",
       "</table>\n"
      ],
      "text/latex": [
       "A tibble: 6 × 2\n",
       "\\begin{tabular}{ll}\n",
       " immigration\\_status & hourly\\_wage\\\\\n",
       " <chr> & <dbl>\\\\\n",
       "\\hline\n",
       "\t Resident     & 9707\\\\\n",
       "\t Non-resident & 4567\\\\\n",
       "\t Non-resident & 3897\\\\\n",
       "\t Resident     & 2497\\\\\n",
       "\t Non-resident & 4872\\\\\n",
       "\t Non-resident & 2885\\\\\n",
       "\\end{tabular}\n"
      ],
      "text/markdown": [
       "\n",
       "A tibble: 6 × 2\n",
       "\n",
       "| immigration_status &lt;chr&gt; | hourly_wage &lt;dbl&gt; |\n",
       "|---|---|\n",
       "| Resident     | 9707 |\n",
       "| Non-resident | 4567 |\n",
       "| Non-resident | 3897 |\n",
       "| Resident     | 2497 |\n",
       "| Non-resident | 4872 |\n",
       "| Non-resident | 2885 |\n",
       "\n"
      ],
      "text/plain": [
       "  immigration_status hourly_wage\n",
       "1 Resident           9707       \n",
       "2 Non-resident       4567       \n",
       "3 Non-resident       3897       \n",
       "4 Resident           2497       \n",
       "5 Non-resident       4872       \n",
       "6 Non-resident       2885       "
      ]
     },
     "metadata": {},
     "output_type": "display_data"
    }
   ],
   "source": [
    "employment_clean <- employment |>\n",
    "                    select(NOC_10 ,IMMIG ,HRLYEARN) |>\n",
    "                    filter(!is.na(HRLYEARN)) |>\n",
    "                    filter(NOC_10 == \"03\") |>    #Filters out everyone with STEM Occupations\n",
    "                    select(-NOC_10) |>\n",
    "                    rename(immigration_status = IMMIG,\n",
    "                          hourly_wage = HRLYEARN) |>\n",
    "                    mutate(immigration_status = case_when(immigration_status == 1 | immigration_status == 2 ~ \"Resident\",\n",
    "                                                         immigration_status == 3 ~ \"Non-resident\"))\n",
    "                    \n",
    "                \n",
    "\n",
    "head(employment_clean)"
   ]
  },
  {
   "cell_type": "code",
   "execution_count": 33,
   "id": "1fac72cc-9d18-45b1-98a3-bc5de753fb86",
   "metadata": {},
   "outputs": [
    {
     "data": {
      "text/html": [
       "108064"
      ],
      "text/latex": [
       "108064"
      ],
      "text/markdown": [
       "108064"
      ],
      "text/plain": [
       "[1] 108064"
      ]
     },
     "metadata": {},
     "output_type": "display_data"
    },
    {
     "data": {
      "text/html": [
       "4334"
      ],
      "text/latex": [
       "4334"
      ],
      "text/markdown": [
       "4334"
      ],
      "text/plain": [
       "[1] 4334"
      ]
     },
     "metadata": {},
     "output_type": "display_data"
    },
    {
     "data": {
      "text/html": [
       "<table class=\"dataframe\">\n",
       "<caption>A tibble: 2 × 3</caption>\n",
       "<thead>\n",
       "\t<tr><th scope=col>immigration_status</th><th scope=col>count</th><th scope=col>mean_wage</th></tr>\n",
       "\t<tr><th scope=col>&lt;chr&gt;</th><th scope=col>&lt;int&gt;</th><th scope=col>&lt;dbl&gt;</th></tr>\n",
       "</thead>\n",
       "<tbody>\n",
       "\t<tr><td>Non-resident</td><td>2937</td><td>4248.751</td></tr>\n",
       "\t<tr><td>Resident    </td><td>1397</td><td>4558.674</td></tr>\n",
       "</tbody>\n",
       "</table>\n"
      ],
      "text/latex": [
       "A tibble: 2 × 3\n",
       "\\begin{tabular}{lll}\n",
       " immigration\\_status & count & mean\\_wage\\\\\n",
       " <chr> & <int> & <dbl>\\\\\n",
       "\\hline\n",
       "\t Non-resident & 2937 & 4248.751\\\\\n",
       "\t Resident     & 1397 & 4558.674\\\\\n",
       "\\end{tabular}\n"
      ],
      "text/markdown": [
       "\n",
       "A tibble: 2 × 3\n",
       "\n",
       "| immigration_status &lt;chr&gt; | count &lt;int&gt; | mean_wage &lt;dbl&gt; |\n",
       "|---|---|---|\n",
       "| Non-resident | 2937 | 4248.751 |\n",
       "| Resident     | 1397 | 4558.674 |\n",
       "\n"
      ],
      "text/plain": [
       "  immigration_status count mean_wage\n",
       "1 Non-resident       2937  4248.751 \n",
       "2 Resident           1397  4558.674 "
      ]
     },
     "metadata": {},
     "output_type": "display_data"
    }
   ],
   "source": [
    "nrow(employment)\n",
    "nrow(employment_clean)\n",
    "\n",
    "summary_stats <- employment_clean |>\n",
    "                group_by(immigration_status) |>\n",
    "                summarize(count = n(), \n",
    "                         mean_wage = mean(hourly_wage))\n",
    "\n",
    "summary_stats\n"
   ]
  },
  {
   "cell_type": "code",
   "execution_count": null,
   "id": "89953bc3-a025-40bd-8559-b5c9e2afd502",
   "metadata": {},
   "outputs": [],
   "source": []
  }
 ],
 "metadata": {
  "kernelspec": {
   "display_name": "R",
   "language": "R",
   "name": "ir"
  },
  "language_info": {
   "codemirror_mode": "r",
   "file_extension": ".r",
   "mimetype": "text/x-r-source",
   "name": "R",
   "pygments_lexer": "r",
   "version": "4.1.1"
  }
 },
 "nbformat": 4,
 "nbformat_minor": 5
}
